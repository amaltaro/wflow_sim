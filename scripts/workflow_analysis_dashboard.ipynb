{
 "cells": [
  {
   "cell_type": "markdown",
   "metadata": {},
   "source": [
    "# Workflow Simulation Analysis Dashboard\n",
    "\n",
    "This notebook provides interactive analysis of workflow simulation metrics.\n"
   ]
  },
  {
   "cell_type": "code",
   "execution_count": 1,
   "metadata": {},
   "outputs": [],
   "source": [
    "import json\n",
    "import pandas as pd\n",
    "import plotly.express as px\n",
    "import plotly.graph_objects as go\n",
    "from plotly.subplots import make_subplots\n",
    "import matplotlib.pyplot as plt\n",
    "import seaborn as sns\n",
    "from pathlib import Path\n",
    "import numpy as np\n",
    "from ipywidgets import interact, interactive, fixed, interact_manual\n",
    "import ipywidgets as widgets\n"
   ]
  },
  {
   "cell_type": "markdown",
   "metadata": {},
   "source": [
    "## Load Simulation Data\n",
    "\n",
    "First, let's load all the simulation results from the JSON files.\n"
   ]
  },
  {
   "cell_type": "code",
   "execution_count": 2,
   "metadata": {},
   "outputs": [
    {
     "name": "stdout",
     "output_type": "stream",
     "text": [
      "Loaded 16 simulation results\n",
      "\n",
      "Columns: ['workflow_id', 'composition_number', 'total_events', 'total_tasksets', 'total_groups', 'total_jobs', 'total_wall_time', 'total_turnaround_time', 'wall_time_per_event', 'cpu_time_per_event', 'network_transfer_mb_per_event', 'event_throughput', 'success_rate', 'total_cpu_used_time', 'total_cpu_allocated_time', 'total_write_local_mb', 'total_write_remote_mb', 'total_read_remote_mb', 'total_read_local_mb', 'total_network_transfer_mb', 'total_write_local_mb_per_event', 'total_write_remote_mb_per_event', 'total_read_remote_mb_per_event', 'total_read_local_mb_per_event', 'cpu_utilization', 'memory_occupancy', 'total_cpu_cores_used', 'total_memory_used_mb', 'cpu_cores_per_event', 'memory_mb_per_event', 'file_path', 'workflow_name', 'category']\n",
      "\n",
      "Sorted by composition_number\n",
      "Composition range: 1 to 16\n",
      "\n",
      "Data sample:\n"
     ]
    },
    {
     "data": {
      "text/html": [
       "<div>\n",
       "<style scoped>\n",
       "    .dataframe tbody tr th:only-of-type {\n",
       "        vertical-align: middle;\n",
       "    }\n",
       "\n",
       "    .dataframe tbody tr th {\n",
       "        vertical-align: top;\n",
       "    }\n",
       "\n",
       "    .dataframe thead th {\n",
       "        text-align: right;\n",
       "    }\n",
       "</style>\n",
       "<table border=\"1\" class=\"dataframe\">\n",
       "  <thead>\n",
       "    <tr style=\"text-align: right;\">\n",
       "      <th></th>\n",
       "      <th>workflow_id</th>\n",
       "      <th>composition_number</th>\n",
       "      <th>total_events</th>\n",
       "      <th>total_tasksets</th>\n",
       "      <th>total_groups</th>\n",
       "      <th>total_jobs</th>\n",
       "      <th>total_wall_time</th>\n",
       "      <th>total_turnaround_time</th>\n",
       "      <th>wall_time_per_event</th>\n",
       "      <th>cpu_time_per_event</th>\n",
       "      <th>...</th>\n",
       "      <th>total_read_local_mb_per_event</th>\n",
       "      <th>cpu_utilization</th>\n",
       "      <th>memory_occupancy</th>\n",
       "      <th>total_cpu_cores_used</th>\n",
       "      <th>total_memory_used_mb</th>\n",
       "      <th>cpu_cores_per_event</th>\n",
       "      <th>memory_mb_per_event</th>\n",
       "      <th>file_path</th>\n",
       "      <th>workflow_name</th>\n",
       "      <th>category</th>\n",
       "    </tr>\n",
       "  </thead>\n",
       "  <tbody>\n",
       "    <tr>\n",
       "      <th>0</th>\n",
       "      <td>templates/others/5tasks_fullsim/5tasks_fullsim...</td>\n",
       "      <td>1</td>\n",
       "      <td>2666667</td>\n",
       "      <td>5</td>\n",
       "      <td>1</td>\n",
       "      <td>485</td>\n",
       "      <td>2.093547e+07</td>\n",
       "      <td>43195.1016</td>\n",
       "      <td>7.8508</td>\n",
       "      <td>62.8064</td>\n",
       "      <td>...</td>\n",
       "      <td>1.652344</td>\n",
       "      <td>0.606359</td>\n",
       "      <td>0.893641</td>\n",
       "      <td>3880</td>\n",
       "      <td>3880000</td>\n",
       "      <td>0.001455</td>\n",
       "      <td>1.455</td>\n",
       "      <td>results/others/5tasks_fullsim/5tasks_fullsim_c...</td>\n",
       "      <td>5tasks_fullsim_composition_001</td>\n",
       "      <td>5tasks_fullsim</td>\n",
       "    </tr>\n",
       "    <tr>\n",
       "      <th>1</th>\n",
       "      <td>templates/others/5tasks_fullsim/5tasks_fullsim...</td>\n",
       "      <td>2</td>\n",
       "      <td>2666667</td>\n",
       "      <td>5</td>\n",
       "      <td>2</td>\n",
       "      <td>486</td>\n",
       "      <td>2.093547e+07</td>\n",
       "      <td>86393.4174</td>\n",
       "      <td>7.8508</td>\n",
       "      <td>61.4456</td>\n",
       "      <td>...</td>\n",
       "      <td>1.505859</td>\n",
       "      <td>0.805588</td>\n",
       "      <td>0.944412</td>\n",
       "      <td>3800</td>\n",
       "      <td>3888000</td>\n",
       "      <td>0.001425</td>\n",
       "      <td>1.458</td>\n",
       "      <td>results/others/5tasks_fullsim/5tasks_fullsim_c...</td>\n",
       "      <td>5tasks_fullsim_composition_002</td>\n",
       "      <td>5tasks_fullsim</td>\n",
       "    </tr>\n",
       "    <tr>\n",
       "      <th>2</th>\n",
       "      <td>templates/others/5tasks_fullsim/5tasks_fullsim...</td>\n",
       "      <td>3</td>\n",
       "      <td>2666667</td>\n",
       "      <td>5</td>\n",
       "      <td>2</td>\n",
       "      <td>485</td>\n",
       "      <td>2.093547e+07</td>\n",
       "      <td>86396.4976</td>\n",
       "      <td>7.8508</td>\n",
       "      <td>57.4456</td>\n",
       "      <td>...</td>\n",
       "      <td>1.254883</td>\n",
       "      <td>0.814126</td>\n",
       "      <td>0.935874</td>\n",
       "      <td>3548</td>\n",
       "      <td>3880000</td>\n",
       "      <td>0.001330</td>\n",
       "      <td>1.455</td>\n",
       "      <td>results/others/5tasks_fullsim/5tasks_fullsim_c...</td>\n",
       "      <td>5tasks_fullsim_composition_003</td>\n",
       "      <td>5tasks_fullsim</td>\n",
       "    </tr>\n",
       "    <tr>\n",
       "      <th>3</th>\n",
       "      <td>templates/others/5tasks_fullsim/5tasks_fullsim...</td>\n",
       "      <td>4</td>\n",
       "      <td>2666667</td>\n",
       "      <td>5</td>\n",
       "      <td>2</td>\n",
       "      <td>486</td>\n",
       "      <td>2.093547e+07</td>\n",
       "      <td>86397.1712</td>\n",
       "      <td>7.8508</td>\n",
       "      <td>38.0832</td>\n",
       "      <td>...</td>\n",
       "      <td>0.934570</td>\n",
       "      <td>1.000000</td>\n",
       "      <td>1.000000</td>\n",
       "      <td>2360</td>\n",
       "      <td>3472000</td>\n",
       "      <td>0.000885</td>\n",
       "      <td>1.302</td>\n",
       "      <td>results/others/5tasks_fullsim/5tasks_fullsim_c...</td>\n",
       "      <td>5tasks_fullsim_composition_004</td>\n",
       "      <td>5tasks_fullsim</td>\n",
       "    </tr>\n",
       "    <tr>\n",
       "      <th>4</th>\n",
       "      <td>templates/others/5tasks_fullsim/5tasks_fullsim...</td>\n",
       "      <td>5</td>\n",
       "      <td>2666667</td>\n",
       "      <td>5</td>\n",
       "      <td>2</td>\n",
       "      <td>485</td>\n",
       "      <td>2.093547e+07</td>\n",
       "      <td>86397.8784</td>\n",
       "      <td>7.8508</td>\n",
       "      <td>49.9952</td>\n",
       "      <td>...</td>\n",
       "      <td>1.261719</td>\n",
       "      <td>0.839824</td>\n",
       "      <td>0.910176</td>\n",
       "      <td>3088</td>\n",
       "      <td>3880000</td>\n",
       "      <td>0.001158</td>\n",
       "      <td>1.455</td>\n",
       "      <td>results/others/5tasks_fullsim/5tasks_fullsim_c...</td>\n",
       "      <td>5tasks_fullsim_composition_005</td>\n",
       "      <td>5tasks_fullsim</td>\n",
       "    </tr>\n",
       "  </tbody>\n",
       "</table>\n",
       "<p>5 rows × 33 columns</p>\n",
       "</div>"
      ],
      "text/plain": [
       "                                         workflow_id  composition_number  \\\n",
       "0  templates/others/5tasks_fullsim/5tasks_fullsim...                   1   \n",
       "1  templates/others/5tasks_fullsim/5tasks_fullsim...                   2   \n",
       "2  templates/others/5tasks_fullsim/5tasks_fullsim...                   3   \n",
       "3  templates/others/5tasks_fullsim/5tasks_fullsim...                   4   \n",
       "4  templates/others/5tasks_fullsim/5tasks_fullsim...                   5   \n",
       "\n",
       "   total_events  total_tasksets  total_groups  total_jobs  total_wall_time  \\\n",
       "0       2666667               5             1         485     2.093547e+07   \n",
       "1       2666667               5             2         486     2.093547e+07   \n",
       "2       2666667               5             2         485     2.093547e+07   \n",
       "3       2666667               5             2         486     2.093547e+07   \n",
       "4       2666667               5             2         485     2.093547e+07   \n",
       "\n",
       "   total_turnaround_time  wall_time_per_event  cpu_time_per_event  ...  \\\n",
       "0             43195.1016               7.8508             62.8064  ...   \n",
       "1             86393.4174               7.8508             61.4456  ...   \n",
       "2             86396.4976               7.8508             57.4456  ...   \n",
       "3             86397.1712               7.8508             38.0832  ...   \n",
       "4             86397.8784               7.8508             49.9952  ...   \n",
       "\n",
       "   total_read_local_mb_per_event  cpu_utilization  memory_occupancy  \\\n",
       "0                       1.652344         0.606359          0.893641   \n",
       "1                       1.505859         0.805588          0.944412   \n",
       "2                       1.254883         0.814126          0.935874   \n",
       "3                       0.934570         1.000000          1.000000   \n",
       "4                       1.261719         0.839824          0.910176   \n",
       "\n",
       "   total_cpu_cores_used  total_memory_used_mb  cpu_cores_per_event  \\\n",
       "0                  3880               3880000             0.001455   \n",
       "1                  3800               3888000             0.001425   \n",
       "2                  3548               3880000             0.001330   \n",
       "3                  2360               3472000             0.000885   \n",
       "4                  3088               3880000             0.001158   \n",
       "\n",
       "   memory_mb_per_event                                          file_path  \\\n",
       "0                1.455  results/others/5tasks_fullsim/5tasks_fullsim_c...   \n",
       "1                1.458  results/others/5tasks_fullsim/5tasks_fullsim_c...   \n",
       "2                1.455  results/others/5tasks_fullsim/5tasks_fullsim_c...   \n",
       "3                1.302  results/others/5tasks_fullsim/5tasks_fullsim_c...   \n",
       "4                1.455  results/others/5tasks_fullsim/5tasks_fullsim_c...   \n",
       "\n",
       "                    workflow_name        category  \n",
       "0  5tasks_fullsim_composition_001  5tasks_fullsim  \n",
       "1  5tasks_fullsim_composition_002  5tasks_fullsim  \n",
       "2  5tasks_fullsim_composition_003  5tasks_fullsim  \n",
       "3  5tasks_fullsim_composition_004  5tasks_fullsim  \n",
       "4  5tasks_fullsim_composition_005  5tasks_fullsim  \n",
       "\n",
       "[5 rows x 33 columns]"
      ]
     },
     "execution_count": 2,
     "metadata": {},
     "output_type": "execute_result"
    }
   ],
   "source": [
    "def load_simulation_data(results_dir=\"results\"):\n",
    "    \"\"\"Load all simulation results into a pandas DataFrame.\"\"\"\n",
    "    all_results = []\n",
    "    \n",
    "    for json_file in Path(results_dir).rglob(\"*.json\"):\n",
    "        try:\n",
    "            with open(json_file, 'r') as f:\n",
    "                data = json.load(f)\n",
    "            \n",
    "            # Extract metrics\n",
    "            metrics = data.get('metrics', {})\n",
    "            \n",
    "            # Add file metadata\n",
    "            metrics['file_path'] = str(json_file)\n",
    "            metrics['workflow_name'] = json_file.stem\n",
    "            metrics['category'] = json_file.parent.name\n",
    "            \n",
    "            all_results.append(metrics)\n",
    "        except Exception as e:\n",
    "            print(f\"Error loading {json_file}: {e}\")\n",
    "    \n",
    "    df = pd.DataFrame(all_results)\n",
    "    return df\n",
    "\n",
    "# Load the data - you can specify a specific directory or load all results\n",
    "# Option 1: Load all results\n",
    "df = load_simulation_data(\"results/others/5tasks_fullsim\")\n",
    "\n",
    "# Option 2: Load specific directory (uncomment and use instead)\n",
    "# df = load_simulation_data(\"results/others/5tasks_fullsim\")\n",
    "\n",
    "print(f\"Loaded {len(df)} simulation results\")\n",
    "print(f\"\\nColumns: {df.columns.tolist()}\")\n",
    "\n",
    "# Sort by composition number to ensure consistent plot ordering\n",
    "if 'composition_number' in df.columns:\n",
    "    df = df.sort_values(by='composition_number', ascending=True).reset_index(drop=True)\n",
    "    # Create ordered categorical type for workflow_name to maintain sorting in plots\n",
    "    df['workflow_name'] = pd.Categorical(df['workflow_name'], \n",
    "                                         categories=df['workflow_name'].tolist(), \n",
    "                                         ordered=True)\n",
    "    print(f\"\\nSorted by composition_number\")\n",
    "    print(f\"Composition range: {df['composition_number'].min()} to {df['composition_number'].max()}\")\n",
    "\n",
    "print(f\"\\nData sample:\")\n",
    "df.head()\n"
   ]
  },
  {
   "cell_type": "markdown",
   "metadata": {},
   "source": [
    "## Resource Utilization Analysis\n"
   ]
  },
  {
   "cell_type": "code",
   "execution_count": 3,
   "metadata": {},
   "outputs": [
    {
     "data": {
      "application/vnd.plotly.v1+json": {
       "config": {
        "plotlyServerURL": "https://plot.ly"
       },
       "data": [
        {
         "customdata": {
          "_inputArray": [
           {
            "0": 3880,
            "1": 3880000,
            "2": 0.01592194426045753
           }
          ],
          "bdata": "AAAAAABQrkAAAAAAIJpNQZayjJfXTZA/",
          "dtype": "f8",
          "shape": "1, 3"
         },
         "hovertemplate": "workflow_name=5tasks_fullsim_composition_001<br>CPU Utilization=%{x}<br>Memory Occupancy=%{y}<br>total_events=%{marker.size}<br>total_cpu_cores_used=%{customdata[0]}<br>total_memory_used_mb=%{customdata[1]}<br>event_throughput=%{customdata[2]}<extra></extra>",
         "legendgroup": "5tasks_fullsim_composition_001",
         "marker": {
          "color": "#636efa",
          "size": {
           "_inputArray": {
            "0": 2666667,
            "bdata": "q7AoAA==",
            "dtype": "i4",
            "shape": "1"
           },
           "bdata": "q7AoAA==",
           "dtype": "i4"
          },
          "sizemode": "area",
          "sizeref": 6666.6675,
          "symbol": "circle"
         },
         "mode": "markers",
         "name": "5tasks_fullsim_composition_001",
         "orientation": "v",
         "showlegend": true,
         "type": "scatter",
         "x": {
          "_inputArray": {
           "0": 0.6063585876598564,
           "bdata": "C7v0H0pn4z8=",
           "dtype": "f8",
           "shape": "1"
          },
          "bdata": "C7v0H0pn4z8=",
          "dtype": "f8"
         },
         "xaxis": "x",
         "y": {
          "_inputArray": {
           "0": 0.8936414123401437,
           "bdata": "9kQL4LWY7D8=",
           "dtype": "f8",
           "shape": "1"
          },
          "bdata": "9kQL4LWY7D8=",
          "dtype": "f8"
         },
         "yaxis": "y"
        },
        {
         "customdata": {
          "_inputArray": [
           {
            "0": 3800,
            "1": 3888000,
            "2": 0.016274558308487504
           }
          ],
          "bdata": "AAAAAACwrUAAAAAAwKlNQe9mxB5HqpA/",
          "dtype": "f8",
          "shape": "1, 3"
         },
         "hovertemplate": "workflow_name=5tasks_fullsim_composition_002<br>CPU Utilization=%{x}<br>Memory Occupancy=%{y}<br>total_events=%{marker.size}<br>total_cpu_cores_used=%{customdata[0]}<br>total_memory_used_mb=%{customdata[1]}<br>event_throughput=%{customdata[2]}<extra></extra>",
         "legendgroup": "5tasks_fullsim_composition_002",
         "marker": {
          "color": "#EF553B",
          "size": {
           "_inputArray": {
            "0": 2666667,
            "bdata": "q7AoAA==",
            "dtype": "i4",
            "shape": "1"
           },
           "bdata": "q7AoAA==",
           "dtype": "i4"
          },
          "sizemode": "area",
          "sizeref": 6666.6675,
          "symbol": "circle"
         },
         "mode": "markers",
         "name": "5tasks_fullsim_composition_002",
         "orientation": "v",
         "showlegend": true,
         "type": "scatter",
         "x": {
          "_inputArray": {
           "0": 0.8055881021489628,
           "bdata": "HNkYs2DH6T8=",
           "dtype": "f8",
           "shape": "1"
          },
          "bdata": "HNkYs2DH6T8=",
          "dtype": "f8"
         },
         "xaxis": "x",
         "y": {
          "_inputArray": {
           "0": 0.9444118978510372,
           "bdata": "5CbnTJ847j8=",
           "dtype": "f8",
           "shape": "1"
          },
          "bdata": "5CbnTJ847j8=",
          "dtype": "f8"
         },
         "yaxis": "y"
        },
        {
         "customdata": {
          "_inputArray": [
           {
            "0": 3548,
            "1": 3880000,
            "2": 0.017407773615385685
           }
          ],
          "bdata": "AAAAAAC4q0AAAAAAIJpNQTs8f+lX05E/",
          "dtype": "f8",
          "shape": "1, 3"
         },
         "hovertemplate": "workflow_name=5tasks_fullsim_composition_003<br>CPU Utilization=%{x}<br>Memory Occupancy=%{y}<br>total_events=%{marker.size}<br>total_cpu_cores_used=%{customdata[0]}<br>total_memory_used_mb=%{customdata[1]}<br>event_throughput=%{customdata[2]}<extra></extra>",
         "legendgroup": "5tasks_fullsim_composition_003",
         "marker": {
          "color": "#00cc96",
          "size": {
           "_inputArray": {
            "0": 2666667,
            "bdata": "q7AoAA==",
            "dtype": "i4",
            "shape": "1"
           },
           "bdata": "q7AoAA==",
           "dtype": "i4"
          },
          "sizemode": "area",
          "sizeref": 6666.6675,
          "symbol": "circle"
         },
         "mode": "markers",
         "name": "5tasks_fullsim_composition_003",
         "orientation": "v",
         "showlegend": true,
         "type": "scatter",
         "x": {
          "_inputArray": {
           "0": 0.8141261942063711,
           "bdata": "qt1dYFIN6j8=",
           "dtype": "f8",
           "shape": "1"
          },
          "bdata": "qt1dYFIN6j8=",
          "dtype": "f8"
         },
         "xaxis": "x",
         "y": {
          "_inputArray": {
           "0": 0.9358738057936289,
           "bdata": "ViKin63y7T8=",
           "dtype": "f8",
           "shape": "1"
          },
          "bdata": "ViKin63y7T8=",
          "dtype": "f8"
         },
         "yaxis": "y"
        },
        {
         "customdata": {
          "_inputArray": [
           {
            "0": 2360,
            "1": 3472000,
            "2": 0.02625829762204857
           }
          ],
          "bdata": "AAAAAABwokAAAAAAQH1KQWEuJIZ045o/",
          "dtype": "f8",
          "shape": "1, 3"
         },
         "hovertemplate": "workflow_name=5tasks_fullsim_composition_004<br>CPU Utilization=%{x}<br>Memory Occupancy=%{y}<br>total_events=%{marker.size}<br>total_cpu_cores_used=%{customdata[0]}<br>total_memory_used_mb=%{customdata[1]}<br>event_throughput=%{customdata[2]}<extra></extra>",
         "legendgroup": "5tasks_fullsim_composition_004",
         "marker": {
          "color": "#ab63fa",
          "size": {
           "_inputArray": {
            "0": 2666667,
            "bdata": "q7AoAA==",
            "dtype": "i4",
            "shape": "1"
           },
           "bdata": "q7AoAA==",
           "dtype": "i4"
          },
          "sizemode": "area",
          "sizeref": 6666.6675,
          "symbol": "circle"
         },
         "mode": "markers",
         "name": "5tasks_fullsim_composition_004",
         "orientation": "v",
         "showlegend": true,
         "type": "scatter",
         "x": {
          "_inputArray": {
           "0": 0.9999999999999999,
           "bdata": "////////7z8=",
           "dtype": "f8",
           "shape": "1"
          },
          "bdata": "////////7z8=",
          "dtype": "f8"
         },
         "xaxis": "x",
         "y": {
          "_inputArray": {
           "0": 1,
           "bdata": "AAAAAAAA8D8=",
           "dtype": "f8",
           "shape": "1"
          },
          "bdata": "AAAAAAAA8D8=",
          "dtype": "f8"
         },
         "yaxis": "y"
        },
        {
         "customdata": {
          "_inputArray": [
           {
            "0": 3088,
            "1": 3880000,
            "2": 0.020001920184337697
           }
          ],
          "bdata": "AAAAAAAgqEAAAAAAIJpNQWobMiRie5Q/",
          "dtype": "f8",
          "shape": "1, 3"
         },
         "hovertemplate": "workflow_name=5tasks_fullsim_composition_005<br>CPU Utilization=%{x}<br>Memory Occupancy=%{y}<br>total_events=%{marker.size}<br>total_cpu_cores_used=%{customdata[0]}<br>total_memory_used_mb=%{customdata[1]}<br>event_throughput=%{customdata[2]}<extra></extra>",
         "legendgroup": "5tasks_fullsim_composition_005",
         "marker": {
          "color": "#FFA15A",
          "size": {
           "_inputArray": {
            "0": 2666667,
            "bdata": "q7AoAA==",
            "dtype": "i4",
            "shape": "1"
           },
           "bdata": "q7AoAA==",
           "dtype": "i4"
          },
          "sizemode": "area",
          "sizeref": 6666.6675,
          "symbol": "circle"
         },
         "mode": "markers",
         "name": "5tasks_fullsim_composition_005",
         "orientation": "v",
         "showlegend": true,
         "type": "scatter",
         "x": {
          "_inputArray": {
           "0": 0.8398235800344234,
           "bdata": "IgpVs9Xf6j8=",
           "dtype": "f8",
           "shape": "1"
          },
          "bdata": "IgpVs9Xf6j8=",
          "dtype": "f8"
         },
         "xaxis": "x",
         "y": {
          "_inputArray": {
           "0": 0.9101764199655766,
           "bdata": "3vWqTCog7T8=",
           "dtype": "f8",
           "shape": "1"
          },
          "bdata": "3vWqTCog7T8=",
          "dtype": "f8"
         },
         "yaxis": "y"
        },
        {
         "customdata": {
          "_inputArray": [
           {
            "0": 3552,
            "1": 3888000,
            "2": 0.017407773615385685
           }
          ],
          "bdata": "AAAAAADAq0AAAAAAwKlNQTs8f+lX05E/",
          "dtype": "f8",
          "shape": "1, 3"
         },
         "hovertemplate": "workflow_name=5tasks_fullsim_composition_006<br>CPU Utilization=%{x}<br>Memory Occupancy=%{y}<br>total_events=%{marker.size}<br>total_cpu_cores_used=%{customdata[0]}<br>total_memory_used_mb=%{customdata[1]}<br>event_throughput=%{customdata[2]}<extra></extra>",
         "legendgroup": "5tasks_fullsim_composition_006",
         "marker": {
          "color": "#19d3f3",
          "size": {
           "_inputArray": {
            "0": 2666667,
            "bdata": "q7AoAA==",
            "dtype": "i4",
            "shape": "1"
           },
           "bdata": "q7AoAA==",
           "dtype": "i4"
          },
          "sizemode": "area",
          "sizeref": 6666.6675,
          "symbol": "circle"
         },
         "mode": "markers",
         "name": "5tasks_fullsim_composition_006",
         "orientation": "v",
         "showlegend": true,
         "type": "scatter",
         "x": {
          "_inputArray": {
           "0": 0.8760841294709141,
           "bdata": "HOmTleEI7D8=",
           "dtype": "f8",
           "shape": "1"
          },
          "bdata": "HOmTleEI7D8=",
          "dtype": "f8"
         },
         "xaxis": "x",
         "y": {
          "_inputArray": {
           "0": 0.9572492038624192,
           "bdata": "jsEWFcmh7j8=",
           "dtype": "f8",
           "shape": "1"
          },
          "bdata": "jsEWFcmh7j8=",
          "dtype": "f8"
         },
         "yaxis": "y"
        },
        {
         "customdata": {
          "_inputArray": [
           {
            "0": 2364,
            "1": 3480000,
            "2": 0.02625829762204857
           }
          ],
          "bdata": "AAAAAAB4okAAAAAA4IxKQWEuJIZ045o/",
          "dtype": "f8",
          "shape": "1, 3"
         },
         "hovertemplate": "workflow_name=5tasks_fullsim_composition_007<br>CPU Utilization=%{x}<br>Memory Occupancy=%{y}<br>total_events=%{marker.size}<br>total_cpu_cores_used=%{customdata[0]}<br>total_memory_used_mb=%{customdata[1]}<br>event_throughput=%{customdata[2]}<extra></extra>",
         "legendgroup": "5tasks_fullsim_composition_007",
         "marker": {
          "color": "#FF6692",
          "size": {
           "_inputArray": {
            "0": 2666667,
            "bdata": "q7AoAA==",
            "dtype": "i4",
            "shape": "1"
           },
           "bdata": "q7AoAA==",
           "dtype": "i4"
          },
          "sizemode": "area",
          "sizeref": 6666.6675,
          "symbol": "circle"
         },
         "mode": "markers",
         "name": "5tasks_fullsim_composition_007",
         "orientation": "v",
         "showlegend": true,
         "type": "scatter",
         "x": {
          "_inputArray": {
           "0": 1,
           "bdata": "AAAAAAAA8D8=",
           "dtype": "f8",
           "shape": "1"
          },
          "bdata": "AAAAAAAA8D8=",
          "dtype": "f8"
         },
         "xaxis": "x",
         "y": {
          "_inputArray": {
           "0": 1,
           "bdata": "AAAAAAAA8D8=",
           "dtype": "f8",
           "shape": "1"
          },
          "bdata": "AAAAAAAA8D8=",
          "dtype": "f8"
         },
         "yaxis": "y"
        },
        {
         "customdata": {
          "_inputArray": [
           {
            "0": 3092,
            "1": 3888000,
            "2": 0.020001920184337697
           }
          ],
          "bdata": "AAAAAAAoqEAAAAAAwKlNQWobMiRie5Q/",
          "dtype": "f8",
          "shape": "1, 3"
         },
         "hovertemplate": "workflow_name=5tasks_fullsim_composition_008<br>CPU Utilization=%{x}<br>Memory Occupancy=%{y}<br>total_events=%{marker.size}<br>total_cpu_cores_used=%{customdata[0]}<br>total_memory_used_mb=%{customdata[1]}<br>event_throughput=%{customdata[2]}<extra></extra>",
         "legendgroup": "5tasks_fullsim_composition_008",
         "marker": {
          "color": "#B6E880",
          "size": {
           "_inputArray": {
            "0": 2666667,
            "bdata": "q7AoAA==",
            "dtype": "i4",
            "shape": "1"
           },
           "bdata": "q7AoAA==",
           "dtype": "i4"
          },
          "sizemode": "area",
          "sizeref": 6666.6675,
          "symbol": "circle"
         },
         "mode": "markers",
         "name": "5tasks_fullsim_composition_008",
         "orientation": "v",
         "showlegend": true,
         "type": "scatter",
         "x": {
          "_inputArray": {
           "0": 0.8932157200229489,
           "bdata": "bLE4IjmV7D8=",
           "dtype": "f8",
           "shape": "1"
          },
          "bdata": "bLE4IjmV7D8=",
          "dtype": "f8"
         },
         "xaxis": "x",
         "y": {
          "_inputArray": {
           "0": 0.9401176133103845,
           "bdata": "P/lxiHEV7j8=",
           "dtype": "f8",
           "shape": "1"
          },
          "bdata": "P/lxiHEV7j8=",
          "dtype": "f8"
         },
         "yaxis": "y"
        },
        {
         "customdata": {
          "_inputArray": [
           {
            "0": 3088,
            "1": 3880000,
            "2": 0.020001920184337697
           }
          ],
          "bdata": "AAAAAAAgqEAAAAAAIJpNQWobMiRie5Q/",
          "dtype": "f8",
          "shape": "1, 3"
         },
         "hovertemplate": "workflow_name=5tasks_fullsim_composition_009<br>CPU Utilization=%{x}<br>Memory Occupancy=%{y}<br>total_events=%{marker.size}<br>total_cpu_cores_used=%{customdata[0]}<br>total_memory_used_mb=%{customdata[1]}<br>event_throughput=%{customdata[2]}<extra></extra>",
         "legendgroup": "5tasks_fullsim_composition_009",
         "marker": {
          "color": "#FF97FF",
          "size": {
           "_inputArray": {
            "0": 2666667,
            "bdata": "q7AoAA==",
            "dtype": "i4",
            "shape": "1"
           },
           "bdata": "q7AoAA==",
           "dtype": "i4"
          },
          "sizemode": "area",
          "sizeref": 6666.6675,
          "symbol": "circle"
         },
         "mode": "markers",
         "name": "5tasks_fullsim_composition_009",
         "orientation": "v",
         "showlegend": true,
         "type": "scatter",
         "x": {
          "_inputArray": {
           "0": 0.8932157200229489,
           "bdata": "bLE4IjmV7D8=",
           "dtype": "f8",
           "shape": "1"
          },
          "bdata": "bLE4IjmV7D8=",
          "dtype": "f8"
         },
         "xaxis": "x",
         "y": {
          "_inputArray": {
           "0": 0.9401176133103845,
           "bdata": "P/lxiHEV7j8=",
           "dtype": "f8",
           "shape": "1"
          },
          "bdata": "P/lxiHEV7j8=",
          "dtype": "f8"
         },
         "yaxis": "y"
        },
        {
         "customdata": {
          "_inputArray": [
           {
            "0": 2360,
            "1": 3472000,
            "2": 0.02625829762204857
           }
          ],
          "bdata": "AAAAAABwokAAAAAAQH1KQWEuJIZ045o/",
          "dtype": "f8",
          "shape": "1, 3"
         },
         "hovertemplate": "workflow_name=5tasks_fullsim_composition_010<br>CPU Utilization=%{x}<br>Memory Occupancy=%{y}<br>total_events=%{marker.size}<br>total_cpu_cores_used=%{customdata[0]}<br>total_memory_used_mb=%{customdata[1]}<br>event_throughput=%{customdata[2]}<extra></extra>",
         "legendgroup": "5tasks_fullsim_composition_010",
         "marker": {
          "color": "#FECB52",
          "size": {
           "_inputArray": {
            "0": 2666667,
            "bdata": "q7AoAA==",
            "dtype": "i4",
            "shape": "1"
           },
           "bdata": "q7AoAA==",
           "dtype": "i4"
          },
          "sizemode": "area",
          "sizeref": 6666.6675,
          "symbol": "circle"
         },
         "mode": "markers",
         "name": "5tasks_fullsim_composition_010",
         "orientation": "v",
         "showlegend": true,
         "type": "scatter",
         "x": {
          "_inputArray": {
           "0": 0.9999999999999999,
           "bdata": "////////7z8=",
           "dtype": "f8",
           "shape": "1"
          },
          "bdata": "////////7z8=",
          "dtype": "f8"
         },
         "xaxis": "x",
         "y": {
          "_inputArray": {
           "0": 1,
           "bdata": "AAAAAAAA8D8=",
           "dtype": "f8",
           "shape": "1"
          },
          "bdata": "AAAAAAAA8D8=",
          "dtype": "f8"
         },
         "yaxis": "y"
        },
        {
         "customdata": {
          "_inputArray": [
           {
            "0": 2360,
            "1": 3472000,
            "2": 0.02625829762204857
           }
          ],
          "bdata": "AAAAAABwokAAAAAAQH1KQWEuJIZ045o/",
          "dtype": "f8",
          "shape": "1, 3"
         },
         "hovertemplate": "workflow_name=5tasks_fullsim_composition_011<br>CPU Utilization=%{x}<br>Memory Occupancy=%{y}<br>total_events=%{marker.size}<br>total_cpu_cores_used=%{customdata[0]}<br>total_memory_used_mb=%{customdata[1]}<br>event_throughput=%{customdata[2]}<extra></extra>",
         "legendgroup": "5tasks_fullsim_composition_011",
         "marker": {
          "color": "#636efa",
          "size": {
           "_inputArray": {
            "0": 2666667,
            "bdata": "q7AoAA==",
            "dtype": "i4",
            "shape": "1"
           },
           "bdata": "q7AoAA==",
           "dtype": "i4"
          },
          "sizemode": "area",
          "sizeref": 6666.6675,
          "symbol": "circle"
         },
         "mode": "markers",
         "name": "5tasks_fullsim_composition_011",
         "orientation": "v",
         "showlegend": true,
         "type": "scatter",
         "x": {
          "_inputArray": {
           "0": 1,
           "bdata": "AAAAAAAA8D8=",
           "dtype": "f8",
           "shape": "1"
          },
          "bdata": "AAAAAAAA8D8=",
          "dtype": "f8"
         },
         "xaxis": "x",
         "y": {
          "_inputArray": {
           "0": 1,
           "bdata": "AAAAAAAA8D8=",
           "dtype": "f8",
           "shape": "1"
          },
          "bdata": "AAAAAAAA8D8=",
          "dtype": "f8"
         },
         "yaxis": "y"
        },
        {
         "customdata": {
          "_inputArray": [
           {
            "0": 3092,
            "1": 3888000,
            "2": 0.020001920184337697
           }
          ],
          "bdata": "AAAAAAAoqEAAAAAAwKlNQWobMiRie5Q/",
          "dtype": "f8",
          "shape": "1, 3"
         },
         "hovertemplate": "workflow_name=5tasks_fullsim_composition_012<br>CPU Utilization=%{x}<br>Memory Occupancy=%{y}<br>total_events=%{marker.size}<br>total_cpu_cores_used=%{customdata[0]}<br>total_memory_used_mb=%{customdata[1]}<br>event_throughput=%{customdata[2]}<extra></extra>",
         "legendgroup": "5tasks_fullsim_composition_012",
         "marker": {
          "color": "#EF553B",
          "size": {
           "_inputArray": {
            "0": 2666667,
            "bdata": "q7AoAA==",
            "dtype": "i4",
            "shape": "1"
           },
           "bdata": "q7AoAA==",
           "dtype": "i4"
          },
          "sizemode": "area",
          "sizeref": 6666.6675,
          "symbol": "circle"
         },
         "mode": "markers",
         "name": "5tasks_fullsim_composition_012",
         "orientation": "v",
         "showlegend": true,
         "type": "scatter",
         "x": {
          "_inputArray": {
           "0": 0.9199117900172117,
           "bdata": "EYWq2epv7T8=",
           "dtype": "f8",
           "shape": "1"
          },
          "bdata": "EYWq2epv7T8=",
          "dtype": "f8"
         },
         "xaxis": "x",
         "y": {
          "_inputArray": {
           "0": 0.9550882099827883,
           "bdata": "73pVJhWQ7j8=",
           "dtype": "f8",
           "shape": "1"
          },
          "bdata": "73pVJhWQ7j8=",
          "dtype": "f8"
         },
         "yaxis": "y"
        },
        {
         "customdata": {
          "_inputArray": [
           {
            "0": 2364,
            "1": 3480000,
            "2": 0.02625829762204857
           }
          ],
          "bdata": "AAAAAAB4okAAAAAA4IxKQWEuJIZ045o/",
          "dtype": "f8",
          "shape": "1, 3"
         },
         "hovertemplate": "workflow_name=5tasks_fullsim_composition_013<br>CPU Utilization=%{x}<br>Memory Occupancy=%{y}<br>total_events=%{marker.size}<br>total_cpu_cores_used=%{customdata[0]}<br>total_memory_used_mb=%{customdata[1]}<br>event_throughput=%{customdata[2]}<extra></extra>",
         "legendgroup": "5tasks_fullsim_composition_013",
         "marker": {
          "color": "#00cc96",
          "size": {
           "_inputArray": {
            "0": 2666667,
            "bdata": "q7AoAA==",
            "dtype": "i4",
            "shape": "1"
           },
           "bdata": "q7AoAA==",
           "dtype": "i4"
          },
          "sizemode": "area",
          "sizeref": 6666.6675,
          "symbol": "circle"
         },
         "mode": "markers",
         "name": "5tasks_fullsim_composition_013",
         "orientation": "v",
         "showlegend": true,
         "type": "scatter",
         "x": {
          "_inputArray": {
           "0": 1,
           "bdata": "AAAAAAAA8D8=",
           "dtype": "f8",
           "shape": "1"
          },
          "bdata": "AAAAAAAA8D8=",
          "dtype": "f8"
         },
         "xaxis": "x",
         "y": {
          "_inputArray": {
           "0": 1,
           "bdata": "AAAAAAAA8D8=",
           "dtype": "f8",
           "shape": "1"
          },
          "bdata": "AAAAAAAA8D8=",
          "dtype": "f8"
         },
         "yaxis": "y"
        },
        {
         "customdata": {
          "_inputArray": [
           {
            "0": 2364,
            "1": 3480000,
            "2": 0.02625829762204857
           }
          ],
          "bdata": "AAAAAAB4okAAAAAA4IxKQWEuJIZ045o/",
          "dtype": "f8",
          "shape": "1, 3"
         },
         "hovertemplate": "workflow_name=5tasks_fullsim_composition_014<br>CPU Utilization=%{x}<br>Memory Occupancy=%{y}<br>total_events=%{marker.size}<br>total_cpu_cores_used=%{customdata[0]}<br>total_memory_used_mb=%{customdata[1]}<br>event_throughput=%{customdata[2]}<extra></extra>",
         "legendgroup": "5tasks_fullsim_composition_014",
         "marker": {
          "color": "#ab63fa",
          "size": {
           "_inputArray": {
            "0": 2666667,
            "bdata": "q7AoAA==",
            "dtype": "i4",
            "shape": "1"
           },
           "bdata": "q7AoAA==",
           "dtype": "i4"
          },
          "sizemode": "area",
          "sizeref": 6666.6675,
          "symbol": "circle"
         },
         "mode": "markers",
         "name": "5tasks_fullsim_composition_014",
         "orientation": "v",
         "showlegend": true,
         "type": "scatter",
         "x": {
          "_inputArray": {
           "0": 1,
           "bdata": "AAAAAAAA8D8=",
           "dtype": "f8",
           "shape": "1"
          },
          "bdata": "AAAAAAAA8D8=",
          "dtype": "f8"
         },
         "xaxis": "x",
         "y": {
          "_inputArray": {
           "0": 1,
           "bdata": "AAAAAAAA8D8=",
           "dtype": "f8",
           "shape": "1"
          },
          "bdata": "AAAAAAAA8D8=",
          "dtype": "f8"
         },
         "yaxis": "y"
        },
        {
         "customdata": {
          "_inputArray": [
           {
            "0": 2360,
            "1": 3472000,
            "2": 0.02625829762204857
           }
          ],
          "bdata": "AAAAAABwokAAAAAAQH1KQWEuJIZ045o/",
          "dtype": "f8",
          "shape": "1, 3"
         },
         "hovertemplate": "workflow_name=5tasks_fullsim_composition_015<br>CPU Utilization=%{x}<br>Memory Occupancy=%{y}<br>total_events=%{marker.size}<br>total_cpu_cores_used=%{customdata[0]}<br>total_memory_used_mb=%{customdata[1]}<br>event_throughput=%{customdata[2]}<extra></extra>",
         "legendgroup": "5tasks_fullsim_composition_015",
         "marker": {
          "color": "#FFA15A",
          "size": {
           "_inputArray": {
            "0": 2666667,
            "bdata": "q7AoAA==",
            "dtype": "i4",
            "shape": "1"
           },
           "bdata": "q7AoAA==",
           "dtype": "i4"
          },
          "sizemode": "area",
          "sizeref": 6666.6675,
          "symbol": "circle"
         },
         "mode": "markers",
         "name": "5tasks_fullsim_composition_015",
         "orientation": "v",
         "showlegend": true,
         "type": "scatter",
         "x": {
          "_inputArray": {
           "0": 1,
           "bdata": "AAAAAAAA8D8=",
           "dtype": "f8",
           "shape": "1"
          },
          "bdata": "AAAAAAAA8D8=",
          "dtype": "f8"
         },
         "xaxis": "x",
         "y": {
          "_inputArray": {
           "0": 1,
           "bdata": "AAAAAAAA8D8=",
           "dtype": "f8",
           "shape": "1"
          },
          "bdata": "AAAAAAAA8D8=",
          "dtype": "f8"
         },
         "yaxis": "y"
        },
        {
         "customdata": {
          "_inputArray": [
           {
            "0": 2364,
            "1": 3480000,
            "2": 0.02625829762204857
           }
          ],
          "bdata": "AAAAAAB4okAAAAAA4IxKQWEuJIZ045o/",
          "dtype": "f8",
          "shape": "1, 3"
         },
         "hovertemplate": "workflow_name=5tasks_fullsim_composition_016<br>CPU Utilization=%{x}<br>Memory Occupancy=%{y}<br>total_events=%{marker.size}<br>total_cpu_cores_used=%{customdata[0]}<br>total_memory_used_mb=%{customdata[1]}<br>event_throughput=%{customdata[2]}<extra></extra>",
         "legendgroup": "5tasks_fullsim_composition_016",
         "marker": {
          "color": "#19d3f3",
          "size": {
           "_inputArray": {
            "0": 2666667,
            "bdata": "q7AoAA==",
            "dtype": "i4",
            "shape": "1"
           },
           "bdata": "q7AoAA==",
           "dtype": "i4"
          },
          "sizemode": "area",
          "sizeref": 6666.6675,
          "symbol": "circle"
         },
         "mode": "markers",
         "name": "5tasks_fullsim_composition_016",
         "orientation": "v",
         "showlegend": true,
         "type": "scatter",
         "x": {
          "_inputArray": {
           "0": 1,
           "bdata": "AAAAAAAA8D8=",
           "dtype": "f8",
           "shape": "1"
          },
          "bdata": "AAAAAAAA8D8=",
          "dtype": "f8"
         },
         "xaxis": "x",
         "y": {
          "_inputArray": {
           "0": 1,
           "bdata": "AAAAAAAA8D8=",
           "dtype": "f8",
           "shape": "1"
          },
          "bdata": "AAAAAAAA8D8=",
          "dtype": "f8"
         },
         "yaxis": "y"
        }
       ],
       "layout": {
        "autosize": true,
        "legend": {
         "itemsizing": "constant",
         "title": {
          "text": "workflow_name"
         },
         "tracegroupgap": 0
        },
        "template": {
         "data": {
          "bar": [
           {
            "error_x": {
             "color": "#2a3f5f"
            },
            "error_y": {
             "color": "#2a3f5f"
            },
            "marker": {
             "line": {
              "color": "#E5ECF6",
              "width": 0.5
             },
             "pattern": {
              "fillmode": "overlay",
              "size": 10,
              "solidity": 0.2
             }
            },
            "type": "bar"
           }
          ],
          "barpolar": [
           {
            "marker": {
             "line": {
              "color": "#E5ECF6",
              "width": 0.5
             },
             "pattern": {
              "fillmode": "overlay",
              "size": 10,
              "solidity": 0.2
             }
            },
            "type": "barpolar"
           }
          ],
          "carpet": [
           {
            "aaxis": {
             "endlinecolor": "#2a3f5f",
             "gridcolor": "white",
             "linecolor": "white",
             "minorgridcolor": "white",
             "startlinecolor": "#2a3f5f"
            },
            "baxis": {
             "endlinecolor": "#2a3f5f",
             "gridcolor": "white",
             "linecolor": "white",
             "minorgridcolor": "white",
             "startlinecolor": "#2a3f5f"
            },
            "type": "carpet"
           }
          ],
          "choropleth": [
           {
            "colorbar": {
             "outlinewidth": 0,
             "ticks": ""
            },
            "type": "choropleth"
           }
          ],
          "contour": [
           {
            "colorbar": {
             "outlinewidth": 0,
             "ticks": ""
            },
            "colorscale": [
             [
              0,
              "#0d0887"
             ],
             [
              0.1111111111111111,
              "#46039f"
             ],
             [
              0.2222222222222222,
              "#7201a8"
             ],
             [
              0.3333333333333333,
              "#9c179e"
             ],
             [
              0.4444444444444444,
              "#bd3786"
             ],
             [
              0.5555555555555556,
              "#d8576b"
             ],
             [
              0.6666666666666666,
              "#ed7953"
             ],
             [
              0.7777777777777778,
              "#fb9f3a"
             ],
             [
              0.8888888888888888,
              "#fdca26"
             ],
             [
              1,
              "#f0f921"
             ]
            ],
            "type": "contour"
           }
          ],
          "contourcarpet": [
           {
            "colorbar": {
             "outlinewidth": 0,
             "ticks": ""
            },
            "type": "contourcarpet"
           }
          ],
          "heatmap": [
           {
            "colorbar": {
             "outlinewidth": 0,
             "ticks": ""
            },
            "colorscale": [
             [
              0,
              "#0d0887"
             ],
             [
              0.1111111111111111,
              "#46039f"
             ],
             [
              0.2222222222222222,
              "#7201a8"
             ],
             [
              0.3333333333333333,
              "#9c179e"
             ],
             [
              0.4444444444444444,
              "#bd3786"
             ],
             [
              0.5555555555555556,
              "#d8576b"
             ],
             [
              0.6666666666666666,
              "#ed7953"
             ],
             [
              0.7777777777777778,
              "#fb9f3a"
             ],
             [
              0.8888888888888888,
              "#fdca26"
             ],
             [
              1,
              "#f0f921"
             ]
            ],
            "type": "heatmap"
           }
          ],
          "histogram": [
           {
            "marker": {
             "pattern": {
              "fillmode": "overlay",
              "size": 10,
              "solidity": 0.2
             }
            },
            "type": "histogram"
           }
          ],
          "histogram2d": [
           {
            "colorbar": {
             "outlinewidth": 0,
             "ticks": ""
            },
            "colorscale": [
             [
              0,
              "#0d0887"
             ],
             [
              0.1111111111111111,
              "#46039f"
             ],
             [
              0.2222222222222222,
              "#7201a8"
             ],
             [
              0.3333333333333333,
              "#9c179e"
             ],
             [
              0.4444444444444444,
              "#bd3786"
             ],
             [
              0.5555555555555556,
              "#d8576b"
             ],
             [
              0.6666666666666666,
              "#ed7953"
             ],
             [
              0.7777777777777778,
              "#fb9f3a"
             ],
             [
              0.8888888888888888,
              "#fdca26"
             ],
             [
              1,
              "#f0f921"
             ]
            ],
            "type": "histogram2d"
           }
          ],
          "histogram2dcontour": [
           {
            "colorbar": {
             "outlinewidth": 0,
             "ticks": ""
            },
            "colorscale": [
             [
              0,
              "#0d0887"
             ],
             [
              0.1111111111111111,
              "#46039f"
             ],
             [
              0.2222222222222222,
              "#7201a8"
             ],
             [
              0.3333333333333333,
              "#9c179e"
             ],
             [
              0.4444444444444444,
              "#bd3786"
             ],
             [
              0.5555555555555556,
              "#d8576b"
             ],
             [
              0.6666666666666666,
              "#ed7953"
             ],
             [
              0.7777777777777778,
              "#fb9f3a"
             ],
             [
              0.8888888888888888,
              "#fdca26"
             ],
             [
              1,
              "#f0f921"
             ]
            ],
            "type": "histogram2dcontour"
           }
          ],
          "mesh3d": [
           {
            "colorbar": {
             "outlinewidth": 0,
             "ticks": ""
            },
            "type": "mesh3d"
           }
          ],
          "parcoords": [
           {
            "line": {
             "colorbar": {
              "outlinewidth": 0,
              "ticks": ""
             }
            },
            "type": "parcoords"
           }
          ],
          "pie": [
           {
            "automargin": true,
            "type": "pie"
           }
          ],
          "scatter": [
           {
            "fillpattern": {
             "fillmode": "overlay",
             "size": 10,
             "solidity": 0.2
            },
            "type": "scatter"
           }
          ],
          "scatter3d": [
           {
            "line": {
             "colorbar": {
              "outlinewidth": 0,
              "ticks": ""
             }
            },
            "marker": {
             "colorbar": {
              "outlinewidth": 0,
              "ticks": ""
             }
            },
            "type": "scatter3d"
           }
          ],
          "scattercarpet": [
           {
            "marker": {
             "colorbar": {
              "outlinewidth": 0,
              "ticks": ""
             }
            },
            "type": "scattercarpet"
           }
          ],
          "scattergeo": [
           {
            "marker": {
             "colorbar": {
              "outlinewidth": 0,
              "ticks": ""
             }
            },
            "type": "scattergeo"
           }
          ],
          "scattergl": [
           {
            "marker": {
             "colorbar": {
              "outlinewidth": 0,
              "ticks": ""
             }
            },
            "type": "scattergl"
           }
          ],
          "scattermap": [
           {
            "marker": {
             "colorbar": {
              "outlinewidth": 0,
              "ticks": ""
             }
            },
            "type": "scattermap"
           }
          ],
          "scattermapbox": [
           {
            "marker": {
             "colorbar": {
              "outlinewidth": 0,
              "ticks": ""
             }
            },
            "type": "scattermapbox"
           }
          ],
          "scatterpolar": [
           {
            "marker": {
             "colorbar": {
              "outlinewidth": 0,
              "ticks": ""
             }
            },
            "type": "scatterpolar"
           }
          ],
          "scatterpolargl": [
           {
            "marker": {
             "colorbar": {
              "outlinewidth": 0,
              "ticks": ""
             }
            },
            "type": "scatterpolargl"
           }
          ],
          "scatterternary": [
           {
            "marker": {
             "colorbar": {
              "outlinewidth": 0,
              "ticks": ""
             }
            },
            "type": "scatterternary"
           }
          ],
          "surface": [
           {
            "colorbar": {
             "outlinewidth": 0,
             "ticks": ""
            },
            "colorscale": [
             [
              0,
              "#0d0887"
             ],
             [
              0.1111111111111111,
              "#46039f"
             ],
             [
              0.2222222222222222,
              "#7201a8"
             ],
             [
              0.3333333333333333,
              "#9c179e"
             ],
             [
              0.4444444444444444,
              "#bd3786"
             ],
             [
              0.5555555555555556,
              "#d8576b"
             ],
             [
              0.6666666666666666,
              "#ed7953"
             ],
             [
              0.7777777777777778,
              "#fb9f3a"
             ],
             [
              0.8888888888888888,
              "#fdca26"
             ],
             [
              1,
              "#f0f921"
             ]
            ],
            "type": "surface"
           }
          ],
          "table": [
           {
            "cells": {
             "fill": {
              "color": "#EBF0F8"
             },
             "line": {
              "color": "white"
             }
            },
            "header": {
             "fill": {
              "color": "#C8D4E3"
             },
             "line": {
              "color": "white"
             }
            },
            "type": "table"
           }
          ]
         },
         "layout": {
          "annotationdefaults": {
           "arrowcolor": "#2a3f5f",
           "arrowhead": 0,
           "arrowwidth": 1
          },
          "autotypenumbers": "strict",
          "coloraxis": {
           "colorbar": {
            "outlinewidth": 0,
            "ticks": ""
           }
          },
          "colorscale": {
           "diverging": [
            [
             0,
             "#8e0152"
            ],
            [
             0.1,
             "#c51b7d"
            ],
            [
             0.2,
             "#de77ae"
            ],
            [
             0.3,
             "#f1b6da"
            ],
            [
             0.4,
             "#fde0ef"
            ],
            [
             0.5,
             "#f7f7f7"
            ],
            [
             0.6,
             "#e6f5d0"
            ],
            [
             0.7,
             "#b8e186"
            ],
            [
             0.8,
             "#7fbc41"
            ],
            [
             0.9,
             "#4d9221"
            ],
            [
             1,
             "#276419"
            ]
           ],
           "sequential": [
            [
             0,
             "#0d0887"
            ],
            [
             0.1111111111111111,
             "#46039f"
            ],
            [
             0.2222222222222222,
             "#7201a8"
            ],
            [
             0.3333333333333333,
             "#9c179e"
            ],
            [
             0.4444444444444444,
             "#bd3786"
            ],
            [
             0.5555555555555556,
             "#d8576b"
            ],
            [
             0.6666666666666666,
             "#ed7953"
            ],
            [
             0.7777777777777778,
             "#fb9f3a"
            ],
            [
             0.8888888888888888,
             "#fdca26"
            ],
            [
             1,
             "#f0f921"
            ]
           ],
           "sequentialminus": [
            [
             0,
             "#0d0887"
            ],
            [
             0.1111111111111111,
             "#46039f"
            ],
            [
             0.2222222222222222,
             "#7201a8"
            ],
            [
             0.3333333333333333,
             "#9c179e"
            ],
            [
             0.4444444444444444,
             "#bd3786"
            ],
            [
             0.5555555555555556,
             "#d8576b"
            ],
            [
             0.6666666666666666,
             "#ed7953"
            ],
            [
             0.7777777777777778,
             "#fb9f3a"
            ],
            [
             0.8888888888888888,
             "#fdca26"
            ],
            [
             1,
             "#f0f921"
            ]
           ]
          },
          "colorway": [
           "#636efa",
           "#EF553B",
           "#00cc96",
           "#ab63fa",
           "#FFA15A",
           "#19d3f3",
           "#FF6692",
           "#B6E880",
           "#FF97FF",
           "#FECB52"
          ],
          "font": {
           "color": "#2a3f5f"
          },
          "geo": {
           "bgcolor": "white",
           "lakecolor": "white",
           "landcolor": "#E5ECF6",
           "showlakes": true,
           "showland": true,
           "subunitcolor": "white"
          },
          "hoverlabel": {
           "align": "left"
          },
          "hovermode": "closest",
          "mapbox": {
           "style": "light"
          },
          "paper_bgcolor": "white",
          "plot_bgcolor": "#E5ECF6",
          "polar": {
           "angularaxis": {
            "gridcolor": "white",
            "linecolor": "white",
            "ticks": ""
           },
           "bgcolor": "#E5ECF6",
           "radialaxis": {
            "gridcolor": "white",
            "linecolor": "white",
            "ticks": ""
           }
          },
          "scene": {
           "xaxis": {
            "backgroundcolor": "#E5ECF6",
            "gridcolor": "white",
            "gridwidth": 2,
            "linecolor": "white",
            "showbackground": true,
            "ticks": "",
            "zerolinecolor": "white"
           },
           "yaxis": {
            "backgroundcolor": "#E5ECF6",
            "gridcolor": "white",
            "gridwidth": 2,
            "linecolor": "white",
            "showbackground": true,
            "ticks": "",
            "zerolinecolor": "white"
           },
           "zaxis": {
            "backgroundcolor": "#E5ECF6",
            "gridcolor": "white",
            "gridwidth": 2,
            "linecolor": "white",
            "showbackground": true,
            "ticks": "",
            "zerolinecolor": "white"
           }
          },
          "shapedefaults": {
           "line": {
            "color": "#2a3f5f"
           }
          },
          "ternary": {
           "aaxis": {
            "gridcolor": "white",
            "linecolor": "white",
            "ticks": ""
           },
           "baxis": {
            "gridcolor": "white",
            "linecolor": "white",
            "ticks": ""
           },
           "bgcolor": "#E5ECF6",
           "caxis": {
            "gridcolor": "white",
            "linecolor": "white",
            "ticks": ""
           }
          },
          "title": {
           "x": 0.05
          },
          "xaxis": {
           "automargin": true,
           "gridcolor": "white",
           "linecolor": "white",
           "ticks": "",
           "title": {
            "standoff": 15
           },
           "zerolinecolor": "white",
           "zerolinewidth": 2
          },
          "yaxis": {
           "automargin": true,
           "gridcolor": "white",
           "linecolor": "white",
           "ticks": "",
           "title": {
            "standoff": 15
           },
           "zerolinecolor": "white",
           "zerolinewidth": 2
          }
         }
        },
        "title": {
         "text": "CPU Utilization vs Memory Occupancy"
        },
        "xaxis": {
         "anchor": "y",
         "autorange": true,
         "domain": [
          0,
          1
         ],
         "range": [
          0.574019047749032,
          1.0323395399108244
         ],
         "title": {
          "text": "CPU Utilization"
         },
         "type": "linear"
        },
        "yaxis": {
         "anchor": "x",
         "autorange": true,
         "domain": [
          0,
          1
         ],
         "range": [
          0.8734008814500533,
          1.0202405308900904
         ],
         "title": {
          "text": "Memory Occupancy"
         },
         "type": "linear"
        }
       }
      },
      "image/png": "[encoded data removed]"
     },
     "metadata": {},
     "output_type": "display_data"
    }
   ],
   "source": [
    "# Create CPU vs Memory utilization scatter plot\n",
    "fig = px.scatter(\n",
    "    df,\n",
    "    x='cpu_utilization',\n",
    "    y='memory_occupancy',\n",
    "    color='workflow_name',\n",
    "    size='total_events',\n",
    "    hover_data=['total_cpu_cores_used', 'total_memory_used_mb', 'event_throughput'],\n",
    "    title=\"CPU Utilization vs Memory Occupancy\",\n",
    "    labels={\n",
    "        'cpu_utilization': 'CPU Utilization',\n",
    "        'memory_occupancy': 'Memory Occupancy'\n",
    "    }\n",
    ")\n",
    "fig.show()\n"
   ]
  },
  {
   "cell_type": "markdown",
   "metadata": {},
   "source": [
    "## I/O Pattern Analysis\n"
   ]
  },
  {
   "cell_type": "code",
   "execution_count": 4,
   "metadata": {},
   "outputs": [
    {
     "data": {
      "application/vnd.plotly.v1+json": {
       "config": {
        "plotlyServerURL": "https://plot.ly"
       },
       "data": [
        {
         "hovertemplate": "variable=local_io_total<br>Workflow=%{x}<br>I/O Volume (MB)=%{y}<extra></extra>",
         "legendgroup": "local_io_total",
         "marker": {
          "color": "#636efa",
          "pattern": {
           "shape": ""
          }
         },
         "name": "local_io_total",
         "orientation": "v",
         "showlegend": true,
         "textposition": "auto",
         "type": "bar",
         "x": [
          "5tasks_fullsim_composition_001",
          "5tasks_fullsim_composition_002",
          "5tasks_fullsim_composition_003",
          "5tasks_fullsim_composition_004",
          "5tasks_fullsim_composition_005",
          "5tasks_fullsim_composition_006",
          "5tasks_fullsim_composition_007",
          "5tasks_fullsim_composition_008",
          "5tasks_fullsim_composition_009",
          "5tasks_fullsim_composition_010",
          "5tasks_fullsim_composition_011",
          "5tasks_fullsim_composition_012",
          "5tasks_fullsim_composition_013",
          "5tasks_fullsim_composition_014",
          "5tasks_fullsim_composition_015",
          "5tasks_fullsim_composition_016"
         ],
         "xaxis": "x",
         "y": {
          "_inputArray": {
           "0": 8890626.111328125,
           "1": 8500001.0625,
           "10": 5934896.5751953125,
           "11": 6398438.2998046875,
           "12": 5526042.357421875,
           "13": 5544271.5263671875,
           "14": 4875000.609375,
           "15": 4484375.560546875,
           "2": 7830730.1455078125,
           "3": 6976563.3720703125,
           "4": 7848959.314453125,
           "5": 7440105.0966796875,
           "6": 6585938.3232421875,
           "7": 7458334.265625,
           "8": 6789063.3486328125,
           "9": 5916667.40625,
           "bdata": "AACQQyD1YEEAAAAiZDZgQQAAUIky311BAADQ1wydWkEAACDU//BdQQAAMEa6YVxBAACwlJQfWUEAAACRh3NcQQAAUNbx5VlBAAAA2v6RVkEAANAkzKNWQQAAMJN5aFhBAADgloYUVUEAALDhUyZVQQAAACe+mFJBAADg40UbUUE=",
           "dtype": "f8",
           "shape": "16"
          },
          "bdata": "AACQQyD1YEEAAAAiZDZgQQAAUIky311BAADQ1wydWkEAACDU//BdQQAAMEa6YVxBAACwlJQfWUEAAACRh3NcQQAAUNbx5VlBAAAA2v6RVkEAANAkzKNWQQAAMJN5aFhBAADgloYUVUEAALDhUyZVQQAAACe+mFJBAADg40UbUUE=",
          "dtype": "f8"
         },
         "yaxis": "y"
        },
        {
         "hovertemplate": "variable=remote_io_total<br>Workflow=%{x}<br>I/O Volume (MB)=%{y}<extra></extra>",
         "legendgroup": "remote_io_total",
         "marker": {
          "color": "#EF553B",
          "pattern": {
           "shape": ""
          }
         },
         "name": "remote_io_total",
         "orientation": "v",
         "showlegend": true,
         "textposition": "auto",
         "type": "bar",
         "x": [
          "5tasks_fullsim_composition_001",
          "5tasks_fullsim_composition_002",
          "5tasks_fullsim_composition_003",
          "5tasks_fullsim_composition_004",
          "5tasks_fullsim_composition_005",
          "5tasks_fullsim_composition_006",
          "5tasks_fullsim_composition_007",
          "5tasks_fullsim_composition_008",
          "5tasks_fullsim_composition_009",
          "5tasks_fullsim_composition_010",
          "5tasks_fullsim_composition_011",
          "5tasks_fullsim_composition_012",
          "5tasks_fullsim_composition_013",
          "5tasks_fullsim_composition_014",
          "5tasks_fullsim_composition_015",
          "5tasks_fullsim_composition_016"
         ],
         "xaxis": "x",
         "y": {
          "_inputArray": {
           "0": 1528646.0244140625,
           "1": 1919271.0732421875,
           "10": 7440105.0966796875,
           "11": 5062500.6328125,
           "12": 6807292.517578125,
           "13": 7830730.1455078125,
           "14": 8500001.0625,
           "15": 8890626.111328125,
           "2": 2588541.990234375,
           "3": 5356771.5029296875,
           "4": 3611979.6181640625,
           "5": 2979167.0390625,
           "6": 5747396.5517578125,
           "7": 4002604.6669921875,
           "8": 4671875.583984375,
           "9": 6416667.46875,
           "bdata": "AABABkZTN0EAAMASJ0k9QQAAwP6+v0NBAAAw4DhvVEEAACDPpY5LQQAAAIWvukZBAABQI7HsVUEAAGBVlolOQQAAYOVg0lFBAAAA3kZ6WEEAADBGumFcQQAAgCjZT1NBAAAgIb/3WUEAAFCJMt9dQQAAACJkNmBBAACQQyD1YEE=",
           "dtype": "f8",
           "shape": "16"
          },
          "bdata": "AABABkZTN0EAAMASJ0k9QQAAwP6+v0NBAAAw4DhvVEEAACDPpY5LQQAAAIWvukZBAABQI7HsVUEAAGBVlolOQQAAYOVg0lFBAAAA3kZ6WEEAADBGumFcQQAAgCjZT1NBAAAgIb/3WUEAAFCJMt9dQQAAACJkNmBBAACQQyD1YEE=",
          "dtype": "f8"
         },
         "yaxis": "y"
        }
       ],
       "layout": {
        "autosize": true,
        "barmode": "relative",
        "legend": {
         "title": {
          "text": "variable"
         },
         "tracegroupgap": 0
        },
        "template": {
         "data": {
          "bar": [
           {
            "error_x": {
             "color": "#2a3f5f"
            },
            "error_y": {
             "color": "#2a3f5f"
            },
            "marker": {
             "line": {
              "color": "#E5ECF6",
              "width": 0.5
             },
             "pattern": {
              "fillmode": "overlay",
              "size": 10,
              "solidity": 0.2
             }
            },
            "type": "bar"
           }
          ],
          "barpolar": [
           {
            "marker": {
             "line": {
              "color": "#E5ECF6",
              "width": 0.5
             },
             "pattern": {
              "fillmode": "overlay",
              "size": 10,
              "solidity": 0.2
             }
            },
            "type": "barpolar"
           }
          ],
          "carpet": [
           {
            "aaxis": {
             "endlinecolor": "#2a3f5f",
             "gridcolor": "white",
             "linecolor": "white",
             "minorgridcolor": "white",
             "startlinecolor": "#2a3f5f"
            },
            "baxis": {
             "endlinecolor": "#2a3f5f",
             "gridcolor": "white",
             "linecolor": "white",
             "minorgridcolor": "white",
             "startlinecolor": "#2a3f5f"
            },
            "type": "carpet"
           }
          ],
          "choropleth": [
           {
            "colorbar": {
             "outlinewidth": 0,
             "ticks": ""
            },
            "type": "choropleth"
           }
          ],
          "contour": [
           {
            "colorbar": {
             "outlinewidth": 0,
             "ticks": ""
            },
            "colorscale": [
             [
              0,
              "#0d0887"
             ],
             [
              0.1111111111111111,
              "#46039f"
             ],
             [
              0.2222222222222222,
              "#7201a8"
             ],
             [
              0.3333333333333333,
              "#9c179e"
             ],
             [
              0.4444444444444444,
              "#bd3786"
             ],
             [
              0.5555555555555556,
              "#d8576b"
             ],
             [
              0.6666666666666666,
              "#ed7953"
             ],
             [
              0.7777777777777778,
              "#fb9f3a"
             ],
             [
              0.8888888888888888,
              "#fdca26"
             ],
             [
              1,
              "#f0f921"
             ]
            ],
            "type": "contour"
           }
          ],
          "contourcarpet": [
           {
            "colorbar": {
             "outlinewidth": 0,
             "ticks": ""
            },
            "type": "contourcarpet"
           }
          ],
          "heatmap": [
           {
            "colorbar": {
             "outlinewidth": 0,
             "ticks": ""
            },
            "colorscale": [
             [
              0,
              "#0d0887"
             ],
             [
              0.1111111111111111,
              "#46039f"
             ],
             [
              0.2222222222222222,
              "#7201a8"
             ],
             [
              0.3333333333333333,
              "#9c179e"
             ],
             [
              0.4444444444444444,
              "#bd3786"
             ],
             [
              0.5555555555555556,
              "#d8576b"
             ],
             [
              0.6666666666666666,
              "#ed7953"
             ],
             [
              0.7777777777777778,
              "#fb9f3a"
             ],
             [
              0.8888888888888888,
              "#fdca26"
             ],
             [
              1,
              "#f0f921"
             ]
            ],
            "type": "heatmap"
           }
          ],
          "histogram": [
           {
            "marker": {
             "pattern": {
              "fillmode": "overlay",
              "size": 10,
              "solidity": 0.2
             }
            },
            "type": "histogram"
           }
          ],
          "histogram2d": [
           {
            "colorbar": {
             "outlinewidth": 0,
             "ticks": ""
            },
            "colorscale": [
             [
              0,
              "#0d0887"
             ],
             [
              0.1111111111111111,
              "#46039f"
             ],
             [
              0.2222222222222222,
              "#7201a8"
             ],
             [
              0.3333333333333333,
              "#9c179e"
             ],
             [
              0.4444444444444444,
              "#bd3786"
             ],
             [
              0.5555555555555556,
              "#d8576b"
             ],
             [
              0.6666666666666666,
              "#ed7953"
             ],
             [
              0.7777777777777778,
              "#fb9f3a"
             ],
             [
              0.8888888888888888,
              "#fdca26"
             ],
             [
              1,
              "#f0f921"
             ]
            ],
            "type": "histogram2d"
           }
          ],
          "histogram2dcontour": [
           {
            "colorbar": {
             "outlinewidth": 0,
             "ticks": ""
            },
            "colorscale": [
             [
              0,
              "#0d0887"
             ],
             [
              0.1111111111111111,
              "#46039f"
             ],
             [
              0.2222222222222222,
              "#7201a8"
             ],
             [
              0.3333333333333333,
              "#9c179e"
             ],
             [
              0.4444444444444444,
              "#bd3786"
             ],
             [
              0.5555555555555556,
              "#d8576b"
             ],
             [
              0.6666666666666666,
              "#ed7953"
             ],
             [
              0.7777777777777778,
              "#fb9f3a"
             ],
             [
              0.8888888888888888,
              "#fdca26"
             ],
             [
              1,
              "#f0f921"
             ]
            ],
            "type": "histogram2dcontour"
           }
          ],
          "mesh3d": [
           {
            "colorbar": {
             "outlinewidth": 0,
             "ticks": ""
            },
            "type": "mesh3d"
           }
          ],
          "parcoords": [
           {
            "line": {
             "colorbar": {
              "outlinewidth": 0,
              "ticks": ""
             }
            },
            "type": "parcoords"
           }
          ],
          "pie": [
           {
            "automargin": true,
            "type": "pie"
           }
          ],
          "scatter": [
           {
            "fillpattern": {
             "fillmode": "overlay",
             "size": 10,
             "solidity": 0.2
            },
            "type": "scatter"
           }
          ],
          "scatter3d": [
           {
            "line": {
             "colorbar": {
              "outlinewidth": 0,
              "ticks": ""
             }
            },
            "marker": {
             "colorbar": {
              "outlinewidth": 0,
              "ticks": ""
             }
            },
            "type": "scatter3d"
           }
          ],
          "scattercarpet": [
           {
            "marker": {
             "colorbar": {
              "outlinewidth": 0,
              "ticks": ""
             }
            },
            "type": "scattercarpet"
           }
          ],
          "scattergeo": [
           {
            "marker": {
             "colorbar": {
              "outlinewidth": 0,
              "ticks": ""
             }
            },
            "type": "scattergeo"
           }
          ],
          "scattergl": [
           {
            "marker": {
             "colorbar": {
              "outlinewidth": 0,
              "ticks": ""
             }
            },
            "type": "scattergl"
           }
          ],
          "scattermap": [
           {
            "marker": {
             "colorbar": {
              "outlinewidth": 0,
              "ticks": ""
             }
            },
            "type": "scattermap"
           }
          ],
          "scattermapbox": [
           {
            "marker": {
             "colorbar": {
              "outlinewidth": 0,
              "ticks": ""
             }
            },
            "type": "scattermapbox"
           }
          ],
          "scatterpolar": [
           {
            "marker": {
             "colorbar": {
              "outlinewidth": 0,
              "ticks": ""
             }
            },
            "type": "scatterpolar"
           }
          ],
          "scatterpolargl": [
           {
            "marker": {
             "colorbar": {
              "outlinewidth": 0,
              "ticks": ""
             }
            },
            "type": "scatterpolargl"
           }
          ],
          "scatterternary": [
           {
            "marker": {
             "colorbar": {
              "outlinewidth": 0,
              "ticks": ""
             }
            },
            "type": "scatterternary"
           }
          ],
          "surface": [
           {
            "colorbar": {
             "outlinewidth": 0,
             "ticks": ""
            },
            "colorscale": [
             [
              0,
              "#0d0887"
             ],
             [
              0.1111111111111111,
              "#46039f"
             ],
             [
              0.2222222222222222,
              "#7201a8"
             ],
             [
              0.3333333333333333,
              "#9c179e"
             ],
             [
              0.4444444444444444,
              "#bd3786"
             ],
             [
              0.5555555555555556,
              "#d8576b"
             ],
             [
              0.6666666666666666,
              "#ed7953"
             ],
             [
              0.7777777777777778,
              "#fb9f3a"
             ],
             [
              0.8888888888888888,
              "#fdca26"
             ],
             [
              1,
              "#f0f921"
             ]
            ],
            "type": "surface"
           }
          ],
          "table": [
           {
            "cells": {
             "fill": {
              "color": "#EBF0F8"
             },
             "line": {
              "color": "white"
             }
            },
            "header": {
             "fill": {
              "color": "#C8D4E3"
             },
             "line": {
              "color": "white"
             }
            },
            "type": "table"
           }
          ]
         },
         "layout": {
          "annotationdefaults": {
           "arrowcolor": "#2a3f5f",
           "arrowhead": 0,
           "arrowwidth": 1
          },
          "autotypenumbers": "strict",
          "coloraxis": {
           "colorbar": {
            "outlinewidth": 0,
            "ticks": ""
           }
          },
          "colorscale": {
           "diverging": [
            [
             0,
             "#8e0152"
            ],
            [
             0.1,
             "#c51b7d"
            ],
            [
             0.2,
             "#de77ae"
            ],
            [
             0.3,
             "#f1b6da"
            ],
            [
             0.4,
             "#fde0ef"
            ],
            [
             0.5,
             "#f7f7f7"
            ],
            [
             0.6,
             "#e6f5d0"
            ],
            [
             0.7,
             "#b8e186"
            ],
            [
             0.8,
             "#7fbc41"
            ],
            [
             0.9,
             "#4d9221"
            ],
            [
             1,
             "#276419"
            ]
           ],
           "sequential": [
            [
             0,
             "#0d0887"
            ],
            [
             0.1111111111111111,
             "#46039f"
            ],
            [
             0.2222222222222222,
             "#7201a8"
            ],
            [
             0.3333333333333333,
             "#9c179e"
            ],
            [
             0.4444444444444444,
             "#bd3786"
            ],
            [
             0.5555555555555556,
             "#d8576b"
            ],
            [
             0.6666666666666666,
             "#ed7953"
            ],
            [
             0.7777777777777778,
             "#fb9f3a"
            ],
            [
             0.8888888888888888,
             "#fdca26"
            ],
            [
             1,
             "#f0f921"
            ]
           ],
           "sequentialminus": [
            [
             0,
             "#0d0887"
            ],
            [
             0.1111111111111111,
             "#46039f"
            ],
            [
             0.2222222222222222,
             "#7201a8"
            ],
            [
             0.3333333333333333,
             "#9c179e"
            ],
            [
             0.4444444444444444,
             "#bd3786"
            ],
            [
             0.5555555555555556,
             "#d8576b"
            ],
            [
             0.6666666666666666,
             "#ed7953"
            ],
            [
             0.7777777777777778,
             "#fb9f3a"
            ],
            [
             0.8888888888888888,
             "#fdca26"
            ],
            [
             1,
             "#f0f921"
            ]
           ]
          },
          "colorway": [
           "#636efa",
           "#EF553B",
           "#00cc96",
           "#ab63fa",
           "#FFA15A",
           "#19d3f3",
           "#FF6692",
           "#B6E880",
           "#FF97FF",
           "#FECB52"
          ],
          "font": {
           "color": "#2a3f5f"
          },
          "geo": {
           "bgcolor": "white",
           "lakecolor": "white",
           "landcolor": "#E5ECF6",
           "showlakes": true,
           "showland": true,
           "subunitcolor": "white"
          },
          "hoverlabel": {
           "align": "left"
          },
          "hovermode": "closest",
          "mapbox": {
           "style": "light"
          },
          "paper_bgcolor": "white",
          "plot_bgcolor": "#E5ECF6",
          "polar": {
           "angularaxis": {
            "gridcolor": "white",
            "linecolor": "white",
            "ticks": ""
           },
           "bgcolor": "#E5ECF6",
           "radialaxis": {
            "gridcolor": "white",
            "linecolor": "white",
            "ticks": ""
           }
          },
          "scene": {
           "xaxis": {
            "backgroundcolor": "#E5ECF6",
            "gridcolor": "white",
            "gridwidth": 2,
            "linecolor": "white",
            "showbackground": true,
            "ticks": "",
            "zerolinecolor": "white"
           },
           "yaxis": {
            "backgroundcolor": "#E5ECF6",
            "gridcolor": "white",
            "gridwidth": 2,
            "linecolor": "white",
            "showbackground": true,
            "ticks": "",
            "zerolinecolor": "white"
           },
           "zaxis": {
            "backgroundcolor": "#E5ECF6",
            "gridcolor": "white",
            "gridwidth": 2,
            "linecolor": "white",
            "showbackground": true,
            "ticks": "",
            "zerolinecolor": "white"
           }
          },
          "shapedefaults": {
           "line": {
            "color": "#2a3f5f"
           }
          },
          "ternary": {
           "aaxis": {
            "gridcolor": "white",
            "linecolor": "white",
            "ticks": ""
           },
           "baxis": {
            "gridcolor": "white",
            "linecolor": "white",
            "ticks": ""
           },
           "bgcolor": "#E5ECF6",
           "caxis": {
            "gridcolor": "white",
            "linecolor": "white",
            "ticks": ""
           }
          },
          "title": {
           "x": 0.05
          },
          "xaxis": {
           "automargin": true,
           "gridcolor": "white",
           "linecolor": "white",
           "ticks": "",
           "title": {
            "standoff": 15
           },
           "zerolinecolor": "white",
           "zerolinewidth": 2
          },
          "yaxis": {
           "automargin": true,
           "gridcolor": "white",
           "linecolor": "white",
           "ticks": "",
           "title": {
            "standoff": 15
           },
           "zerolinecolor": "white",
           "zerolinewidth": 2
          }
         }
        },
        "title": {
         "text": "I/O Pattern Breakdown"
        },
        "xaxis": {
         "anchor": "y",
         "autorange": true,
         "domain": [
          0,
          1
         ],
         "range": [
          -0.5,
          15.5
         ],
         "title": {
          "text": "Workflow"
         },
         "type": "category"
        },
        "yaxis": {
         "anchor": "x",
         "autorange": true,
         "domain": [
          0,
          1
         ],
         "range": [
          0,
          14078949.128289474
         ],
         "title": {
          "text": "I/O Volume (MB)"
         },
         "type": "linear"
        }
       }
      },
      "image/png": "[encoded data removed]"
     },
     "metadata": {},
     "output_type": "display_data"
    }
   ],
   "source": [
    "# Calculate I/O ratios\n",
    "df['local_io_total'] = df['total_write_local_mb'] + df['total_read_local_mb']\n",
    "df['remote_io_total'] = df['total_write_remote_mb'] + df['total_read_remote_mb']\n",
    "df['total_io'] = df['local_io_total'] + df['remote_io_total']\n",
    "df['local_io_ratio'] = df['local_io_total'] / df['total_io']\n",
    "df['remote_io_ratio'] = df['remote_io_total'] / df['total_io']\n",
    "\n",
    "# Create I/O pattern visualization\n",
    "fig = px.bar(\n",
    "    df,\n",
    "    x='workflow_name',\n",
    "    y=['local_io_total', 'remote_io_total'],\n",
    "    title=\"I/O Pattern Breakdown\",\n",
    "    labels={'value': 'I/O Volume (MB)', 'workflow_name': 'Workflow'}\n",
    ")\n",
    "fig.show()\n"
   ]
  },
  {
   "cell_type": "markdown",
   "metadata": {},
   "source": [
    "## Performance Metrics\n"
   ]
  },
  {
   "cell_type": "code",
   "execution_count": 5,
   "metadata": {},
   "outputs": [
    {
     "data": {
      "application/vnd.plotly.v1+json": {
       "config": {
        "plotlyServerURL": "https://plot.ly"
       },
       "data": [
        {
         "hovertemplate": "Workflow=%{x}<br>Throughput (events/CPU-second)=%{y}<extra></extra>",
         "legendgroup": "",
         "marker": {
          "color": "#636efa",
          "pattern": {
           "shape": ""
          }
         },
         "name": "",
         "orientation": "v",
         "showlegend": false,
         "textposition": "auto",
         "type": "bar",
         "x": [
          "5tasks_fullsim_composition_001",
          "5tasks_fullsim_composition_002",
          "5tasks_fullsim_composition_003",
          "5tasks_fullsim_composition_004",
          "5tasks_fullsim_composition_005",
          "5tasks_fullsim_composition_006",
          "5tasks_fullsim_composition_007",
          "5tasks_fullsim_composition_008",
          "5tasks_fullsim_composition_009",
          "5tasks_fullsim_composition_010",
          "5tasks_fullsim_composition_011",
          "5tasks_fullsim_composition_012",
          "5tasks_fullsim_composition_013",
          "5tasks_fullsim_composition_014",
          "5tasks_fullsim_composition_015",
          "5tasks_fullsim_composition_016"
         ],
         "xaxis": "x",
         "y": {
          "_inputArray": {
           "0": 0.01592194426045753,
           "1": 0.016274558308487504,
           "10": 0.02625829762204857,
           "11": 0.020001920184337697,
           "12": 0.02625829762204857,
           "13": 0.02625829762204857,
           "14": 0.02625829762204857,
           "15": 0.02625829762204857,
           "2": 0.017407773615385685,
           "3": 0.02625829762204857,
           "4": 0.020001920184337697,
           "5": 0.017407773615385685,
           "6": 0.02625829762204857,
           "7": 0.020001920184337697,
           "8": 0.020001920184337697,
           "9": 0.02625829762204857,
           "bdata": "lrKMl9dNkD/vZsQeR6qQPzs8f+lX05E/YS4khnTjmj9qGzIkYnuUPzs8f+lX05E/YS4khnTjmj9qGzIkYnuUP2obMiRie5Q/YS4khnTjmj9hLiSGdOOaP2obMiRie5Q/YS4khnTjmj9hLiSGdOOaP2EuJIZ045o/YS4khnTjmj8=",
           "dtype": "f8",
           "shape": "16"
          },
          "bdata": "lrKMl9dNkD/vZsQeR6qQPzs8f+lX05E/YS4khnTjmj9qGzIkYnuUPzs8f+lX05E/YS4khnTjmj9qGzIkYnuUP2obMiRie5Q/YS4khnTjmj9hLiSGdOOaP2obMiRie5Q/YS4khnTjmj9hLiSGdOOaP2EuJIZ045o/YS4khnTjmj8=",
          "dtype": "f8"
         },
         "yaxis": "y"
        }
       ],
       "layout": {
        "autosize": true,
        "barmode": "relative",
        "legend": {
         "tracegroupgap": 0
        },
        "template": {
         "data": {
          "bar": [
           {
            "error_x": {
             "color": "#2a3f5f"
            },
            "error_y": {
             "color": "#2a3f5f"
            },
            "marker": {
             "line": {
              "color": "#E5ECF6",
              "width": 0.5
             },
             "pattern": {
              "fillmode": "overlay",
              "size": 10,
              "solidity": 0.2
             }
            },
            "type": "bar"
           }
          ],
          "barpolar": [
           {
            "marker": {
             "line": {
              "color": "#E5ECF6",
              "width": 0.5
             },
             "pattern": {
              "fillmode": "overlay",
              "size": 10,
              "solidity": 0.2
             }
            },
            "type": "barpolar"
           }
          ],
          "carpet": [
           {
            "aaxis": {
             "endlinecolor": "#2a3f5f",
             "gridcolor": "white",
             "linecolor": "white",
             "minorgridcolor": "white",
             "startlinecolor": "#2a3f5f"
            },
            "baxis": {
             "endlinecolor": "#2a3f5f",
             "gridcolor": "white",
             "linecolor": "white",
             "minorgridcolor": "white",
             "startlinecolor": "#2a3f5f"
            },
            "type": "carpet"
           }
          ],
          "choropleth": [
           {
            "colorbar": {
             "outlinewidth": 0,
             "ticks": ""
            },
            "type": "choropleth"
           }
          ],
          "contour": [
           {
            "colorbar": {
             "outlinewidth": 0,
             "ticks": ""
            },
            "colorscale": [
             [
              0,
              "#0d0887"
             ],
             [
              0.1111111111111111,
              "#46039f"
             ],
             [
              0.2222222222222222,
              "#7201a8"
             ],
             [
              0.3333333333333333,
              "#9c179e"
             ],
             [
              0.4444444444444444,
              "#bd3786"
             ],
             [
              0.5555555555555556,
              "#d8576b"
             ],
             [
              0.6666666666666666,
              "#ed7953"
             ],
             [
              0.7777777777777778,
              "#fb9f3a"
             ],
             [
              0.8888888888888888,
              "#fdca26"
             ],
             [
              1,
              "#f0f921"
             ]
            ],
            "type": "contour"
           }
          ],
          "contourcarpet": [
           {
            "colorbar": {
             "outlinewidth": 0,
             "ticks": ""
            },
            "type": "contourcarpet"
           }
          ],
          "heatmap": [
           {
            "colorbar": {
             "outlinewidth": 0,
             "ticks": ""
            },
            "colorscale": [
             [
              0,
              "#0d0887"
             ],
             [
              0.1111111111111111,
              "#46039f"
             ],
             [
              0.2222222222222222,
              "#7201a8"
             ],
             [
              0.3333333333333333,
              "#9c179e"
             ],
             [
              0.4444444444444444,
              "#bd3786"
             ],
             [
              0.5555555555555556,
              "#d8576b"
             ],
             [
              0.6666666666666666,
              "#ed7953"
             ],
             [
              0.7777777777777778,
              "#fb9f3a"
             ],
             [
              0.8888888888888888,
              "#fdca26"
             ],
             [
              1,
              "#f0f921"
             ]
            ],
            "type": "heatmap"
           }
          ],
          "histogram": [
           {
            "marker": {
             "pattern": {
              "fillmode": "overlay",
              "size": 10,
              "solidity": 0.2
             }
            },
            "type": "histogram"
           }
          ],
          "histogram2d": [
           {
            "colorbar": {
             "outlinewidth": 0,
             "ticks": ""
            },
            "colorscale": [
             [
              0,
              "#0d0887"
             ],
             [
              0.1111111111111111,
              "#46039f"
             ],
             [
              0.2222222222222222,
              "#7201a8"
             ],
             [
              0.3333333333333333,
              "#9c179e"
             ],
             [
              0.4444444444444444,
              "#bd3786"
             ],
             [
              0.5555555555555556,
              "#d8576b"
             ],
             [
              0.6666666666666666,
              "#ed7953"
             ],
             [
              0.7777777777777778,
              "#fb9f3a"
             ],
             [
              0.8888888888888888,
              "#fdca26"
             ],
             [
              1,
              "#f0f921"
             ]
            ],
            "type": "histogram2d"
           }
          ],
          "histogram2dcontour": [
           {
            "colorbar": {
             "outlinewidth": 0,
             "ticks": ""
            },
            "colorscale": [
             [
              0,
              "#0d0887"
             ],
             [
              0.1111111111111111,
              "#46039f"
             ],
             [
              0.2222222222222222,
              "#7201a8"
             ],
             [
              0.3333333333333333,
              "#9c179e"
             ],
             [
              0.4444444444444444,
              "#bd3786"
             ],
             [
              0.5555555555555556,
              "#d8576b"
             ],
             [
              0.6666666666666666,
              "#ed7953"
             ],
             [
              0.7777777777777778,
              "#fb9f3a"
             ],
             [
              0.8888888888888888,
              "#fdca26"
             ],
             [
              1,
              "#f0f921"
             ]
            ],
            "type": "histogram2dcontour"
           }
          ],
          "mesh3d": [
           {
            "colorbar": {
             "outlinewidth": 0,
             "ticks": ""
            },
            "type": "mesh3d"
           }
          ],
          "parcoords": [
           {
            "line": {
             "colorbar": {
              "outlinewidth": 0,
              "ticks": ""
             }
            },
            "type": "parcoords"
           }
          ],
          "pie": [
           {
            "automargin": true,
            "type": "pie"
           }
          ],
          "scatter": [
           {
            "fillpattern": {
             "fillmode": "overlay",
             "size": 10,
             "solidity": 0.2
            },
            "type": "scatter"
           }
          ],
          "scatter3d": [
           {
            "line": {
             "colorbar": {
              "outlinewidth": 0,
              "ticks": ""
             }
            },
            "marker": {
             "colorbar": {
              "outlinewidth": 0,
              "ticks": ""
             }
            },
            "type": "scatter3d"
           }
          ],
          "scattercarpet": [
           {
            "marker": {
             "colorbar": {
              "outlinewidth": 0,
              "ticks": ""
             }
            },
            "type": "scattercarpet"
           }
          ],
          "scattergeo": [
           {
            "marker": {
             "colorbar": {
              "outlinewidth": 0,
              "ticks": ""
             }
            },
            "type": "scattergeo"
           }
          ],
          "scattergl": [
           {
            "marker": {
             "colorbar": {
              "outlinewidth": 0,
              "ticks": ""
             }
            },
            "type": "scattergl"
           }
          ],
          "scattermap": [
           {
            "marker": {
             "colorbar": {
              "outlinewidth": 0,
              "ticks": ""
             }
            },
            "type": "scattermap"
           }
          ],
          "scattermapbox": [
           {
            "marker": {
             "colorbar": {
              "outlinewidth": 0,
              "ticks": ""
             }
            },
            "type": "scattermapbox"
           }
          ],
          "scatterpolar": [
           {
            "marker": {
             "colorbar": {
              "outlinewidth": 0,
              "ticks": ""
             }
            },
            "type": "scatterpolar"
           }
          ],
          "scatterpolargl": [
           {
            "marker": {
             "colorbar": {
              "outlinewidth": 0,
              "ticks": ""
             }
            },
            "type": "scatterpolargl"
           }
          ],
          "scatterternary": [
           {
            "marker": {
             "colorbar": {
              "outlinewidth": 0,
              "ticks": ""
             }
            },
            "type": "scatterternary"
           }
          ],
          "surface": [
           {
            "colorbar": {
             "outlinewidth": 0,
             "ticks": ""
            },
            "colorscale": [
             [
              0,
              "#0d0887"
             ],
             [
              0.1111111111111111,
              "#46039f"
             ],
             [
              0.2222222222222222,
              "#7201a8"
             ],
             [
              0.3333333333333333,
              "#9c179e"
             ],
             [
              0.4444444444444444,
              "#bd3786"
             ],
             [
              0.5555555555555556,
              "#d8576b"
             ],
             [
              0.6666666666666666,
              "#ed7953"
             ],
             [
              0.7777777777777778,
              "#fb9f3a"
             ],
             [
              0.8888888888888888,
              "#fdca26"
             ],
             [
              1,
              "#f0f921"
             ]
            ],
            "type": "surface"
           }
          ],
          "table": [
           {
            "cells": {
             "fill": {
              "color": "#EBF0F8"
             },
             "line": {
              "color": "white"
             }
            },
            "header": {
             "fill": {
              "color": "#C8D4E3"
             },
             "line": {
              "color": "white"
             }
            },
            "type": "table"
           }
          ]
         },
         "layout": {
          "annotationdefaults": {
           "arrowcolor": "#2a3f5f",
           "arrowhead": 0,
           "arrowwidth": 1
          },
          "autotypenumbers": "strict",
          "coloraxis": {
           "colorbar": {
            "outlinewidth": 0,
            "ticks": ""
           }
          },
          "colorscale": {
           "diverging": [
            [
             0,
             "#8e0152"
            ],
            [
             0.1,
             "#c51b7d"
            ],
            [
             0.2,
             "#de77ae"
            ],
            [
             0.3,
             "#f1b6da"
            ],
            [
             0.4,
             "#fde0ef"
            ],
            [
             0.5,
             "#f7f7f7"
            ],
            [
             0.6,
             "#e6f5d0"
            ],
            [
             0.7,
             "#b8e186"
            ],
            [
             0.8,
             "#7fbc41"
            ],
            [
             0.9,
             "#4d9221"
            ],
            [
             1,
             "#276419"
            ]
           ],
           "sequential": [
            [
             0,
             "#0d0887"
            ],
            [
             0.1111111111111111,
             "#46039f"
            ],
            [
             0.2222222222222222,
             "#7201a8"
            ],
            [
             0.3333333333333333,
             "#9c179e"
            ],
            [
             0.4444444444444444,
             "#bd3786"
            ],
            [
             0.5555555555555556,
             "#d8576b"
            ],
            [
             0.6666666666666666,
             "#ed7953"
            ],
            [
             0.7777777777777778,
             "#fb9f3a"
            ],
            [
             0.8888888888888888,
             "#fdca26"
            ],
            [
             1,
             "#f0f921"
            ]
           ],
           "sequentialminus": [
            [
             0,
             "#0d0887"
            ],
            [
             0.1111111111111111,
             "#46039f"
            ],
            [
             0.2222222222222222,
             "#7201a8"
            ],
            [
             0.3333333333333333,
             "#9c179e"
            ],
            [
             0.4444444444444444,
             "#bd3786"
            ],
            [
             0.5555555555555556,
             "#d8576b"
            ],
            [
             0.6666666666666666,
             "#ed7953"
            ],
            [
             0.7777777777777778,
             "#fb9f3a"
            ],
            [
             0.8888888888888888,
             "#fdca26"
            ],
            [
             1,
             "#f0f921"
            ]
           ]
          },
          "colorway": [
           "#636efa",
           "#EF553B",
           "#00cc96",
           "#ab63fa",
           "#FFA15A",
           "#19d3f3",
           "#FF6692",
           "#B6E880",
           "#FF97FF",
           "#FECB52"
          ],
          "font": {
           "color": "#2a3f5f"
          },
          "geo": {
           "bgcolor": "white",
           "lakecolor": "white",
           "landcolor": "#E5ECF6",
           "showlakes": true,
           "showland": true,
           "subunitcolor": "white"
          },
          "hoverlabel": {
           "align": "left"
          },
          "hovermode": "closest",
          "mapbox": {
           "style": "light"
          },
          "paper_bgcolor": "white",
          "plot_bgcolor": "#E5ECF6",
          "polar": {
           "angularaxis": {
            "gridcolor": "white",
            "linecolor": "white",
            "ticks": ""
           },
           "bgcolor": "#E5ECF6",
           "radialaxis": {
            "gridcolor": "white",
            "linecolor": "white",
            "ticks": ""
           }
          },
          "scene": {
           "xaxis": {
            "backgroundcolor": "#E5ECF6",
            "gridcolor": "white",
            "gridwidth": 2,
            "linecolor": "white",
            "showbackground": true,
            "ticks": "",
            "zerolinecolor": "white"
           },
           "yaxis": {
            "backgroundcolor": "#E5ECF6",
            "gridcolor": "white",
            "gridwidth": 2,
            "linecolor": "white",
            "showbackground": true,
            "ticks": "",
            "zerolinecolor": "white"
           },
           "zaxis": {
            "backgroundcolor": "#E5ECF6",
            "gridcolor": "white",
            "gridwidth": 2,
            "linecolor": "white",
            "showbackground": true,
            "ticks": "",
            "zerolinecolor": "white"
           }
          },
          "shapedefaults": {
           "line": {
            "color": "#2a3f5f"
           }
          },
          "ternary": {
           "aaxis": {
            "gridcolor": "white",
            "linecolor": "white",
            "ticks": ""
           },
           "baxis": {
            "gridcolor": "white",
            "linecolor": "white",
            "ticks": ""
           },
           "bgcolor": "#E5ECF6",
           "caxis": {
            "gridcolor": "white",
            "linecolor": "white",
            "ticks": ""
           }
          },
          "title": {
           "x": 0.05
          },
          "xaxis": {
           "automargin": true,
           "gridcolor": "white",
           "linecolor": "white",
           "ticks": "",
           "title": {
            "standoff": 15
           },
           "zerolinecolor": "white",
           "zerolinewidth": 2
          },
          "yaxis": {
           "automargin": true,
           "gridcolor": "white",
           "linecolor": "white",
           "ticks": "",
           "title": {
            "standoff": 15
           },
           "zerolinecolor": "white",
           "zerolinewidth": 2
          }
         }
        },
        "title": {
         "text": "Event Throughput Comparison"
        },
        "xaxis": {
         "anchor": "y",
         "autorange": true,
         "domain": [
          0,
          1
         ],
         "range": [
          -0.5,
          15.5
         ],
         "title": {
          "text": "Workflow"
         },
         "type": "category"
        },
        "yaxis": {
         "anchor": "x",
         "autorange": true,
         "domain": [
          0,
          1
         ],
         "range": [
          0,
          0.027640313286366916
         ],
         "title": {
          "text": "Throughput (events/CPU-second)"
         },
         "type": "linear"
        }
       }
      },
      "image/png": "[encoded data removed]"
     },
     "metadata": {},
     "output_type": "display_data"
    }
   ],
   "source": [
    "# Event throughput comparison\n",
    "fig = px.bar(\n",
    "    df,\n",
    "    x='workflow_name',\n",
    "    y='event_throughput',\n",
    "    title=\"Event Throughput Comparison\",\n",
    "    labels={'event_throughput': 'Throughput (events/CPU-second)', 'workflow_name': 'Workflow'}\n",
    ")\n",
    "fig.show()\n"
   ]
  },
  {
   "cell_type": "markdown",
   "metadata": {},
   "source": [
    "## Cost Analysis\n"
   ]
  },
  {
   "cell_type": "code",
   "execution_count": 6,
   "metadata": {},
   "outputs": [
    {
     "data": {
      "application/vnd.plotly.v1+json": {
       "config": {
        "plotlyServerURL": "https://plot.ly"
       },
       "data": [
        {
         "marker": {
          "color": {
           "_inputArray": {
            "0": 1,
            "1": 2,
            "10": 11,
            "11": 12,
            "12": 13,
            "13": 14,
            "14": 15,
            "15": 16,
            "2": 3,
            "3": 4,
            "4": 5,
            "5": 6,
            "6": 7,
            "7": 8,
            "8": 9,
            "9": 10,
            "bdata": "AQIDBAUGBwgJCgsMDQ4PEA==",
            "dtype": "i1",
            "shape": "16"
           },
           "bdata": "AQIDBAUGBwgJCgsMDQ4PEA==",
           "dtype": "i1"
          },
          "colorscale": [
           [
            0,
            "#440154"
           ],
           [
            0.1111111111111111,
            "#482878"
           ],
           [
            0.2222222222222222,
            "#3e4989"
           ],
           [
            0.3333333333333333,
            "#31688e"
           ],
           [
            0.4444444444444444,
            "#26828e"
           ],
           [
            0.5555555555555556,
            "#1f9e89"
           ],
           [
            0.6666666666666666,
            "#35b779"
           ],
           [
            0.7777777777777778,
            "#6ece58"
           ],
           [
            0.8888888888888888,
            "#b5de2b"
           ],
           [
            1,
            "#fde725"
           ]
          ]
         },
         "name": "Total Cost per Event",
         "text": {
          "_inputArray": {
           "0": 0.0073,
           "1": 0.0088,
           "10": 0.0293,
           "11": 0.0206,
           "12": 0.0269,
           "13": 0.0308,
           "14": 0.0333,
           "15": 0.0347,
           "2": 0.0113,
           "3": 0.0215,
           "4": 0.0151,
           "5": 0.0128,
           "6": 0.0229,
           "7": 0.0166,
           "8": 0.0191,
           "9": 0.0255,
           "bdata": "nzws1JrmfT8vbqMBvAWCP03zjlN0JIc/arx0kxgElj8/V1uxv+yOPy1DHOviNoo/F0hQ/Bhzlz+PU3Qkl/+QPx4Wak3zjpM/6SYxCKwcmj/iWBe30QCePw6+MJkqGJU/lrIMcayLmz/SAN4CCYqfP7Hh6ZWyDKE/h6dXyjLEoT8=",
           "dtype": "f8",
           "shape": "16"
          },
          "bdata": "nzws1JrmfT8vbqMBvAWCP03zjlN0JIc/arx0kxgElj8/V1uxv+yOPy1DHOviNoo/F0hQ/Bhzlz+PU3Qkl/+QPx4Wak3zjpM/6SYxCKwcmj/iWBe30QCePw6+MJkqGJU/lrIMcayLmz/SAN4CCYqfP7Hh6ZWyDKE/h6dXyjLEoT8=",
          "dtype": "f8"
         },
         "textposition": "outside",
         "type": "bar",
         "x": [
          "5tasks_fullsim_composition_001",
          "5tasks_fullsim_composition_002",
          "5tasks_fullsim_composition_003",
          "5tasks_fullsim_composition_004",
          "5tasks_fullsim_composition_005",
          "5tasks_fullsim_composition_006",
          "5tasks_fullsim_composition_007",
          "5tasks_fullsim_composition_008",
          "5tasks_fullsim_composition_009",
          "5tasks_fullsim_composition_010",
          "5tasks_fullsim_composition_011",
          "5tasks_fullsim_composition_012",
          "5tasks_fullsim_composition_013",
          "5tasks_fullsim_composition_014",
          "5tasks_fullsim_composition_015",
          "5tasks_fullsim_composition_016"
         ],
         "y": {
          "_inputArray": {
           "0": 0.007332921674937525,
           "1": 0.008797765424937525,
           "10": 0.02929089045118752,
           "11": 0.020558324803256277,
           "12": 0.02692099357579377,
           "13": 0.03075888420079377,
           "14": 0.033265499826187525,
           "15": 0.03473349357579377,
           "2": 0.011295081051493775,
           "3": 0.02147839045118752,
           "4": 0.015115721678650025,
           "5": 0.012763074801100024,
           "6": 0.02294638420079377,
           "7": 0.016583715428256277,
           "8": 0.019090331053650027,
           "9": 0.02545299982618752,
           "bdata": "rKFyLCAJfj/WUDkWkASCP3VRxh3gIYc/ifk7Ym7+lT8xNh/S/fSOP+vf7+aGI4o/xMDQxkF/lz9UYqRNUvuQP2tTLm5qjJM/27Fa51kQmj+J+Ttibv6dP6Yaw9I9DZU/FnnvSy2Rmz/EwNDGQX+fP+5YrfMsCKE/i7z3pZbIoT8=",
           "dtype": "f8",
           "shape": "16"
          },
          "bdata": "rKFyLCAJfj/WUDkWkASCP3VRxh3gIYc/ifk7Ym7+lT8xNh/S/fSOP+vf7+aGI4o/xMDQxkF/lz9UYqRNUvuQP2tTLm5qjJM/27Fa51kQmj+J+Ttibv6dP6Yaw9I9DZU/FnnvSy2Rmz/EwNDGQX+fP+5YrfMsCKE/i7z3pZbIoT8=",
          "dtype": "f8"
         }
        }
       ],
       "layout": {
        "autosize": true,
        "showlegend": false,
        "template": {
         "data": {
          "bar": [
           {
            "error_x": {
             "color": "#2a3f5f"
            },
            "error_y": {
             "color": "#2a3f5f"
            },
            "marker": {
             "line": {
              "color": "#E5ECF6",
              "width": 0.5
             },
             "pattern": {
              "fillmode": "overlay",
              "size": 10,
              "solidity": 0.2
             }
            },
            "type": "bar"
           }
          ],
          "barpolar": [
           {
            "marker": {
             "line": {
              "color": "#E5ECF6",
              "width": 0.5
             },
             "pattern": {
              "fillmode": "overlay",
              "size": 10,
              "solidity": 0.2
             }
            },
            "type": "barpolar"
           }
          ],
          "carpet": [
           {
            "aaxis": {
             "endlinecolor": "#2a3f5f",
             "gridcolor": "white",
             "linecolor": "white",
             "minorgridcolor": "white",
             "startlinecolor": "#2a3f5f"
            },
            "baxis": {
             "endlinecolor": "#2a3f5f",
             "gridcolor": "white",
             "linecolor": "white",
             "minorgridcolor": "white",
             "startlinecolor": "#2a3f5f"
            },
            "type": "carpet"
           }
          ],
          "choropleth": [
           {
            "colorbar": {
             "outlinewidth": 0,
             "ticks": ""
            },
            "type": "choropleth"
           }
          ],
          "contour": [
           {
            "colorbar": {
             "outlinewidth": 0,
             "ticks": ""
            },
            "colorscale": [
             [
              0,
              "#0d0887"
             ],
             [
              0.1111111111111111,
              "#46039f"
             ],
             [
              0.2222222222222222,
              "#7201a8"
             ],
             [
              0.3333333333333333,
              "#9c179e"
             ],
             [
              0.4444444444444444,
              "#bd3786"
             ],
             [
              0.5555555555555556,
              "#d8576b"
             ],
             [
              0.6666666666666666,
              "#ed7953"
             ],
             [
              0.7777777777777778,
              "#fb9f3a"
             ],
             [
              0.8888888888888888,
              "#fdca26"
             ],
             [
              1,
              "#f0f921"
             ]
            ],
            "type": "contour"
           }
          ],
          "contourcarpet": [
           {
            "colorbar": {
             "outlinewidth": 0,
             "ticks": ""
            },
            "type": "contourcarpet"
           }
          ],
          "heatmap": [
           {
            "colorbar": {
             "outlinewidth": 0,
             "ticks": ""
            },
            "colorscale": [
             [
              0,
              "#0d0887"
             ],
             [
              0.1111111111111111,
              "#46039f"
             ],
             [
              0.2222222222222222,
              "#7201a8"
             ],
             [
              0.3333333333333333,
              "#9c179e"
             ],
             [
              0.4444444444444444,
              "#bd3786"
             ],
             [
              0.5555555555555556,
              "#d8576b"
             ],
             [
              0.6666666666666666,
              "#ed7953"
             ],
             [
              0.7777777777777778,
              "#fb9f3a"
             ],
             [
              0.8888888888888888,
              "#fdca26"
             ],
             [
              1,
              "#f0f921"
             ]
            ],
            "type": "heatmap"
           }
          ],
          "histogram": [
           {
            "marker": {
             "pattern": {
              "fillmode": "overlay",
              "size": 10,
              "solidity": 0.2
             }
            },
            "type": "histogram"
           }
          ],
          "histogram2d": [
           {
            "colorbar": {
             "outlinewidth": 0,
             "ticks": ""
            },
            "colorscale": [
             [
              0,
              "#0d0887"
             ],
             [
              0.1111111111111111,
              "#46039f"
             ],
             [
              0.2222222222222222,
              "#7201a8"
             ],
             [
              0.3333333333333333,
              "#9c179e"
             ],
             [
              0.4444444444444444,
              "#bd3786"
             ],
             [
              0.5555555555555556,
              "#d8576b"
             ],
             [
              0.6666666666666666,
              "#ed7953"
             ],
             [
              0.7777777777777778,
              "#fb9f3a"
             ],
             [
              0.8888888888888888,
              "#fdca26"
             ],
             [
              1,
              "#f0f921"
             ]
            ],
            "type": "histogram2d"
           }
          ],
          "histogram2dcontour": [
           {
            "colorbar": {
             "outlinewidth": 0,
             "ticks": ""
            },
            "colorscale": [
             [
              0,
              "#0d0887"
             ],
             [
              0.1111111111111111,
              "#46039f"
             ],
             [
              0.2222222222222222,
              "#7201a8"
             ],
             [
              0.3333333333333333,
              "#9c179e"
             ],
             [
              0.4444444444444444,
              "#bd3786"
             ],
             [
              0.5555555555555556,
              "#d8576b"
             ],
             [
              0.6666666666666666,
              "#ed7953"
             ],
             [
              0.7777777777777778,
              "#fb9f3a"
             ],
             [
              0.8888888888888888,
              "#fdca26"
             ],
             [
              1,
              "#f0f921"
             ]
            ],
            "type": "histogram2dcontour"
           }
          ],
          "mesh3d": [
           {
            "colorbar": {
             "outlinewidth": 0,
             "ticks": ""
            },
            "type": "mesh3d"
           }
          ],
          "parcoords": [
           {
            "line": {
             "colorbar": {
              "outlinewidth": 0,
              "ticks": ""
             }
            },
            "type": "parcoords"
           }
          ],
          "pie": [
           {
            "automargin": true,
            "type": "pie"
           }
          ],
          "scatter": [
           {
            "fillpattern": {
             "fillmode": "overlay",
             "size": 10,
             "solidity": 0.2
            },
            "type": "scatter"
           }
          ],
          "scatter3d": [
           {
            "line": {
             "colorbar": {
              "outlinewidth": 0,
              "ticks": ""
             }
            },
            "marker": {
             "colorbar": {
              "outlinewidth": 0,
              "ticks": ""
             }
            },
            "type": "scatter3d"
           }
          ],
          "scattercarpet": [
           {
            "marker": {
             "colorbar": {
              "outlinewidth": 0,
              "ticks": ""
             }
            },
            "type": "scattercarpet"
           }
          ],
          "scattergeo": [
           {
            "marker": {
             "colorbar": {
              "outlinewidth": 0,
              "ticks": ""
             }
            },
            "type": "scattergeo"
           }
          ],
          "scattergl": [
           {
            "marker": {
             "colorbar": {
              "outlinewidth": 0,
              "ticks": ""
             }
            },
            "type": "scattergl"
           }
          ],
          "scattermap": [
           {
            "marker": {
             "colorbar": {
              "outlinewidth": 0,
              "ticks": ""
             }
            },
            "type": "scattermap"
           }
          ],
          "scattermapbox": [
           {
            "marker": {
             "colorbar": {
              "outlinewidth": 0,
              "ticks": ""
             }
            },
            "type": "scattermapbox"
           }
          ],
          "scatterpolar": [
           {
            "marker": {
             "colorbar": {
              "outlinewidth": 0,
              "ticks": ""
             }
            },
            "type": "scatterpolar"
           }
          ],
          "scatterpolargl": [
           {
            "marker": {
             "colorbar": {
              "outlinewidth": 0,
              "ticks": ""
             }
            },
            "type": "scatterpolargl"
           }
          ],
          "scatterternary": [
           {
            "marker": {
             "colorbar": {
              "outlinewidth": 0,
              "ticks": ""
             }
            },
            "type": "scatterternary"
           }
          ],
          "surface": [
           {
            "colorbar": {
             "outlinewidth": 0,
             "ticks": ""
            },
            "colorscale": [
             [
              0,
              "#0d0887"
             ],
             [
              0.1111111111111111,
              "#46039f"
             ],
             [
              0.2222222222222222,
              "#7201a8"
             ],
             [
              0.3333333333333333,
              "#9c179e"
             ],
             [
              0.4444444444444444,
              "#bd3786"
             ],
             [
              0.5555555555555556,
              "#d8576b"
             ],
             [
              0.6666666666666666,
              "#ed7953"
             ],
             [
              0.7777777777777778,
              "#fb9f3a"
             ],
             [
              0.8888888888888888,
              "#fdca26"
             ],
             [
              1,
              "#f0f921"
             ]
            ],
            "type": "surface"
           }
          ],
          "table": [
           {
            "cells": {
             "fill": {
              "color": "#EBF0F8"
             },
             "line": {
              "color": "white"
             }
            },
            "header": {
             "fill": {
              "color": "#C8D4E3"
             },
             "line": {
              "color": "white"
             }
            },
            "type": "table"
           }
          ]
         },
         "layout": {
          "annotationdefaults": {
           "arrowcolor": "#2a3f5f",
           "arrowhead": 0,
           "arrowwidth": 1
          },
          "autotypenumbers": "strict",
          "coloraxis": {
           "colorbar": {
            "outlinewidth": 0,
            "ticks": ""
           }
          },
          "colorscale": {
           "diverging": [
            [
             0,
             "#8e0152"
            ],
            [
             0.1,
             "#c51b7d"
            ],
            [
             0.2,
             "#de77ae"
            ],
            [
             0.3,
             "#f1b6da"
            ],
            [
             0.4,
             "#fde0ef"
            ],
            [
             0.5,
             "#f7f7f7"
            ],
            [
             0.6,
             "#e6f5d0"
            ],
            [
             0.7,
             "#b8e186"
            ],
            [
             0.8,
             "#7fbc41"
            ],
            [
             0.9,
             "#4d9221"
            ],
            [
             1,
             "#276419"
            ]
           ],
           "sequential": [
            [
             0,
             "#0d0887"
            ],
            [
             0.1111111111111111,
             "#46039f"
            ],
            [
             0.2222222222222222,
             "#7201a8"
            ],
            [
             0.3333333333333333,
             "#9c179e"
            ],
            [
             0.4444444444444444,
             "#bd3786"
            ],
            [
             0.5555555555555556,
             "#d8576b"
            ],
            [
             0.6666666666666666,
             "#ed7953"
            ],
            [
             0.7777777777777778,
             "#fb9f3a"
            ],
            [
             0.8888888888888888,
             "#fdca26"
            ],
            [
             1,
             "#f0f921"
            ]
           ],
           "sequentialminus": [
            [
             0,
             "#0d0887"
            ],
            [
             0.1111111111111111,
             "#46039f"
            ],
            [
             0.2222222222222222,
             "#7201a8"
            ],
            [
             0.3333333333333333,
             "#9c179e"
            ],
            [
             0.4444444444444444,
             "#bd3786"
            ],
            [
             0.5555555555555556,
             "#d8576b"
            ],
            [
             0.6666666666666666,
             "#ed7953"
            ],
            [
             0.7777777777777778,
             "#fb9f3a"
            ],
            [
             0.8888888888888888,
             "#fdca26"
            ],
            [
             1,
             "#f0f921"
            ]
           ]
          },
          "colorway": [
           "#636efa",
           "#EF553B",
           "#00cc96",
           "#ab63fa",
           "#FFA15A",
           "#19d3f3",
           "#FF6692",
           "#B6E880",
           "#FF97FF",
           "#FECB52"
          ],
          "font": {
           "color": "#2a3f5f"
          },
          "geo": {
           "bgcolor": "white",
           "lakecolor": "white",
           "landcolor": "#E5ECF6",
           "showlakes": true,
           "showland": true,
           "subunitcolor": "white"
          },
          "hoverlabel": {
           "align": "left"
          },
          "hovermode": "closest",
          "mapbox": {
           "style": "light"
          },
          "paper_bgcolor": "white",
          "plot_bgcolor": "#E5ECF6",
          "polar": {
           "angularaxis": {
            "gridcolor": "white",
            "linecolor": "white",
            "ticks": ""
           },
           "bgcolor": "#E5ECF6",
           "radialaxis": {
            "gridcolor": "white",
            "linecolor": "white",
            "ticks": ""
           }
          },
          "scene": {
           "xaxis": {
            "backgroundcolor": "#E5ECF6",
            "gridcolor": "white",
            "gridwidth": 2,
            "linecolor": "white",
            "showbackground": true,
            "ticks": "",
            "zerolinecolor": "white"
           },
           "yaxis": {
            "backgroundcolor": "#E5ECF6",
            "gridcolor": "white",
            "gridwidth": 2,
            "linecolor": "white",
            "showbackground": true,
            "ticks": "",
            "zerolinecolor": "white"
           },
           "zaxis": {
            "backgroundcolor": "#E5ECF6",
            "gridcolor": "white",
            "gridwidth": 2,
            "linecolor": "white",
            "showbackground": true,
            "ticks": "",
            "zerolinecolor": "white"
           }
          },
          "shapedefaults": {
           "line": {
            "color": "#2a3f5f"
           }
          },
          "ternary": {
           "aaxis": {
            "gridcolor": "white",
            "linecolor": "white",
            "ticks": ""
           },
           "baxis": {
            "gridcolor": "white",
            "linecolor": "white",
            "ticks": ""
           },
           "bgcolor": "#E5ECF6",
           "caxis": {
            "gridcolor": "white",
            "linecolor": "white",
            "ticks": ""
           }
          },
          "title": {
           "x": 0.05
          },
          "xaxis": {
           "automargin": true,
           "gridcolor": "white",
           "linecolor": "white",
           "ticks": "",
           "title": {
            "standoff": 15
           },
           "zerolinecolor": "white",
           "zerolinewidth": 2
          },
          "yaxis": {
           "automargin": true,
           "gridcolor": "white",
           "linecolor": "white",
           "ticks": "",
           "title": {
            "standoff": 15
           },
           "zerolinecolor": "white",
           "zerolinewidth": 2
          }
         }
        },
        "title": {
         "text": "Total Cost per Event by Workflow Composition"
        },
        "xaxis": {
         "autorange": true,
         "range": [
          -0.5,
          15.5
         ],
         "title": {
          "text": "Workflow Composition"
         },
         "type": "category"
        },
        "yaxis": {
         "autorange": true,
         "range": [
          0,
          0.036561572185046076
         ],
         "title": {
          "text": "Cost per Event"
         },
         "type": "linear"
        }
       }
      },
      "image/png": "[encoded data removed]"
     },
     "metadata": {},
     "output_type": "display_data"
    },
    {
     "name": "stdout",
     "output_type": "stream",
     "text": [
      "\n",
      "=== Cost Efficiency ===\n",
      "                 workflow_name  total_cost_per_event  event_throughput  cost_efficiency\n",
      "5tasks_fullsim_composition_001              0.007333          0.015922         2.171296\n",
      "5tasks_fullsim_composition_002              0.008798          0.016275         1.849851\n",
      "5tasks_fullsim_composition_003              0.011295          0.017408         1.541182\n",
      "5tasks_fullsim_composition_006              0.012763          0.017408         1.363917\n",
      "5tasks_fullsim_composition_005              0.015116          0.020002         1.323253\n",
      "5tasks_fullsim_composition_004              0.021478          0.026258         1.222545\n",
      "5tasks_fullsim_composition_008              0.016584          0.020002         1.206118\n",
      "5tasks_fullsim_composition_007              0.022946          0.026258         1.144333\n",
      "5tasks_fullsim_composition_009              0.019090          0.020002         1.047751\n",
      "5tasks_fullsim_composition_010              0.025453          0.026258         1.031639\n",
      "5tasks_fullsim_composition_013              0.026921          0.026258         0.975384\n",
      "5tasks_fullsim_composition_012              0.020558          0.020002         0.972935\n",
      "5tasks_fullsim_composition_011              0.029291          0.026258         0.896466\n",
      "5tasks_fullsim_composition_014              0.030759          0.026258         0.853682\n",
      "5tasks_fullsim_composition_015              0.033265          0.026258         0.789355\n",
      "5tasks_fullsim_composition_016              0.034733          0.026258         0.755994\n"
     ]
    }
   ],
   "source": [
    "# Calculate cost metrics\n",
    "# Cost rationale: We estimate operational costs by combining CPU, memory, and network resource usage.\n",
    "# Multipliers represent unit costs: $0.1 per CPU-core, $0.001 per MB memory, $0.01 per MB network transfer.\n",
    "# This provides a unified cost metric to compare workflow efficiency across different compositions.\n",
    "df['cpu_cost_per_event'] = df['cpu_cores_per_event'] * 0.1\n",
    "df['memory_cost_per_event'] = df['memory_mb_per_event'] * 0.001\n",
    "df['network_cost_per_event'] = df['network_transfer_mb_per_event'] * 0.01\n",
    "df['total_cost_per_event'] = df['cpu_cost_per_event'] + df['memory_cost_per_event'] + df['network_cost_per_event']\n",
    "\n",
    "# Cost per Event visualization\n",
    "fig = go.Figure()\n",
    "\n",
    "fig.add_trace(\n",
    "    go.Bar(\n",
    "        x=df['workflow_name'],\n",
    "        y=df['total_cost_per_event'],\n",
    "        marker_color=df['composition_number'],\n",
    "        marker_colorscale='Viridis',\n",
    "        text=df['total_cost_per_event'].round(4),\n",
    "        textposition='outside',\n",
    "        name='Total Cost per Event'\n",
    "    )\n",
    ")\n",
    "\n",
    "fig.update_layout(\n",
    "    height=600,\n",
    "    title_text=\"Total Cost per Event by Workflow Composition\",\n",
    "    xaxis_title=\"Workflow Composition\",\n",
    "    yaxis_title=\"Cost per Event\",\n",
    "    showlegend=False\n",
    ")\n",
    "\n",
    "fig.show()\n",
    "\n",
    "# Also show a cost efficiency metric\n",
    "print(\"\\n=== Cost Efficiency ===\")\n",
    "df['cost_efficiency'] = df['event_throughput'] / df['total_cost_per_event']\n",
    "df_efficiency = df[['workflow_name', 'total_cost_per_event', 'event_throughput', 'cost_efficiency']].sort_values('cost_efficiency', ascending=False)\n",
    "print(df_efficiency.to_string(index=False))\n"
   ]
  },
  {
   "cell_type": "markdown",
   "metadata": {},
   "source": [
    "## Interactive Analysis\n",
    "\n",
    "Use the widget below to create custom visualizations by selecting different metrics to compare.\n"
   ]
  },
  {
   "cell_type": "code",
   "execution_count": 7,
   "metadata": {},
   "outputs": [
    {
     "data": {
      "application/vnd.jupyter.widget-view+json": {
       "model_id": "003c7be51c7c4163beb085fcaaa16252",
       "version_major": 2,
       "version_minor": 0
      },
      "text/plain": [
       "interactive(children=(Dropdown(description='X-axis:', index=2, options=('cpu_utilization', 'memory_occupancy',…"
      ]
     },
     "metadata": {},
     "output_type": "display_data"
    }
   ],
   "source": [
    "# Get numeric column names\n",
    "numeric_cols = ['cpu_utilization', 'memory_occupancy', 'event_throughput', \n",
    "                'total_wall_time', 'cpu_cores_per_event', 'memory_mb_per_event',\n",
    "                'network_transfer_mb_per_event', 'total_cost_per_event']\n",
    "\n",
    "@interact(\n",
    "    x_axis=widgets.Dropdown(options=numeric_cols, value='event_throughput', description='X-axis:'),\n",
    "    y_axis=widgets.Dropdown(options=numeric_cols, value='cpu_utilization', description='Y-axis:'),\n",
    "    color_by=widgets.Dropdown(options=['workflow_name', 'category'], value='workflow_name', description='Color by:'),\n",
    "    plot_type=widgets.Dropdown(options=['scatter', 'bar', 'line'], value='scatter', description='Plot type:')\n",
    ")\n",
    "def create_custom_plot(x_axis, y_axis, color_by, plot_type):\n",
    "    \"\"\"Create custom interactive plots.\"\"\"\n",
    "    \n",
    "    if plot_type == 'scatter':\n",
    "        fig = px.scatter(\n",
    "            df,\n",
    "            x=x_axis,\n",
    "            y=y_axis,\n",
    "            color=color_by,\n",
    "            hover_data=['workflow_name'],\n",
    "            title=f\"{x_axis.replace('_', ' ').title()} vs {y_axis.replace('_', ' ').title()}\"\n",
    "        )\n",
    "    elif plot_type == 'bar':\n",
    "        fig = px.bar(\n",
    "            df,\n",
    "            x=color_by,\n",
    "            y=y_axis,\n",
    "            color=color_by,\n",
    "            title=f\"{y_axis.replace('_', ' ').title()} by {color_by.replace('_', ' ').title()}\"\n",
    "        )\n",
    "    else:  # line\n",
    "        fig = px.line(\n",
    "            df,\n",
    "            x=x_axis,\n",
    "            y=y_axis,\n",
    "            color=color_by,\n",
    "            title=f\"{x_axis.replace('_', ' ').title()} vs {y_axis.replace('_', ' ').title()}\"\n",
    "        )\n",
    "    \n",
    "    fig.show()\n"
   ]
  },
  {
   "cell_type": "code",
   "execution_count": null,
   "metadata": {},
   "outputs": [],
   "source": []
  }
 ],
 "metadata": {
  "kernelspec": {
   "display_name": "Python 3 (ipykernel)",
   "language": "python",
   "name": "python3"
  },
  "language_info": {
   "codemirror_mode": {
    "name": "ipython",
    "version": 3
   },
   "file_extension": ".py",
   "mimetype": "text/x-python",
   "name": "python",
   "nbconvert_exporter": "python",
   "pygments_lexer": "ipython3",
   "version": "3.12.7"
  }
 },
 "nbformat": 4,
 "nbformat_minor": 4
}
